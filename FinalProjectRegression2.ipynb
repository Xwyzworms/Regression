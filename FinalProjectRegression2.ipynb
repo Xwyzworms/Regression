{
  "nbformat": 4,
  "nbformat_minor": 0,
  "metadata": {
    "colab": {
      "name": "FinalProjectRegression2.ipynb",
      "provenance": [],
      "collapsed_sections": []
    },
    "kernelspec": {
      "name": "python3",
      "display_name": "Python 3"
    }
  },
  "cells": [
    {
      "cell_type": "code",
      "metadata": {
        "id": "OLG3h2OrlN6Y",
        "colab_type": "code",
        "colab": {
          "base_uri": "https://localhost:8080/",
          "height": 53
        },
        "outputId": "8271cb91-cd05-4d56-aba8-f6b0012e7089"
      },
      "source": [
        "from google.colab import drive\n",
        "drive.mount(\"/content/drive\")"
      ],
      "execution_count": 8,
      "outputs": [
        {
          "output_type": "stream",
          "text": [
            "Drive already mounted at /content/drive; to attempt to forcibly remount, call drive.mount(\"/content/drive\", force_remount=True).\n"
          ],
          "name": "stdout"
        }
      ]
    },
    {
      "cell_type": "code",
      "metadata": {
        "id": "iY9k7QAVleOi",
        "colab_type": "code",
        "colab": {}
      },
      "source": [
        "import pandas as pd\n",
        "import numpy as np\n",
        "import matplotlib.pyplot as plt\n",
        "import seaborn as sns"
      ],
      "execution_count": 0,
      "outputs": []
    },
    {
      "cell_type": "code",
      "metadata": {
        "id": "TGBuctqDmHsn",
        "colab_type": "code",
        "colab": {
          "base_uri": "https://localhost:8080/",
          "height": 211
        },
        "outputId": "d9cb0c74-14a5-4f7c-8687-7eb495dbaccc"
      },
      "source": [
        "df = pd.read_csv(\"/content/drive/My Drive/DataSet/Housing.csv\",sep=\",\")\n",
        "df.head()"
      ],
      "execution_count": 10,
      "outputs": [
        {
          "output_type": "execute_result",
          "data": {
            "text/html": [
              "<div>\n",
              "<style scoped>\n",
              "    .dataframe tbody tr th:only-of-type {\n",
              "        vertical-align: middle;\n",
              "    }\n",
              "\n",
              "    .dataframe tbody tr th {\n",
              "        vertical-align: top;\n",
              "    }\n",
              "\n",
              "    .dataframe thead th {\n",
              "        text-align: right;\n",
              "    }\n",
              "</style>\n",
              "<table border=\"1\" class=\"dataframe\">\n",
              "  <thead>\n",
              "    <tr style=\"text-align: right;\">\n",
              "      <th></th>\n",
              "      <th>price</th>\n",
              "      <th>area</th>\n",
              "      <th>bedrooms</th>\n",
              "      <th>bathrooms</th>\n",
              "      <th>stories</th>\n",
              "      <th>mainroad</th>\n",
              "      <th>guestroom</th>\n",
              "      <th>basement</th>\n",
              "      <th>hotwaterheating</th>\n",
              "      <th>airconditioning</th>\n",
              "      <th>parking</th>\n",
              "      <th>prefarea</th>\n",
              "      <th>furnishingstatus</th>\n",
              "    </tr>\n",
              "  </thead>\n",
              "  <tbody>\n",
              "    <tr>\n",
              "      <th>0</th>\n",
              "      <td>13300000</td>\n",
              "      <td>7420</td>\n",
              "      <td>4</td>\n",
              "      <td>2</td>\n",
              "      <td>3</td>\n",
              "      <td>yes</td>\n",
              "      <td>no</td>\n",
              "      <td>no</td>\n",
              "      <td>no</td>\n",
              "      <td>yes</td>\n",
              "      <td>2</td>\n",
              "      <td>yes</td>\n",
              "      <td>furnished</td>\n",
              "    </tr>\n",
              "    <tr>\n",
              "      <th>1</th>\n",
              "      <td>12250000</td>\n",
              "      <td>8960</td>\n",
              "      <td>4</td>\n",
              "      <td>4</td>\n",
              "      <td>4</td>\n",
              "      <td>yes</td>\n",
              "      <td>no</td>\n",
              "      <td>no</td>\n",
              "      <td>no</td>\n",
              "      <td>yes</td>\n",
              "      <td>3</td>\n",
              "      <td>no</td>\n",
              "      <td>furnished</td>\n",
              "    </tr>\n",
              "    <tr>\n",
              "      <th>2</th>\n",
              "      <td>12250000</td>\n",
              "      <td>9960</td>\n",
              "      <td>3</td>\n",
              "      <td>2</td>\n",
              "      <td>2</td>\n",
              "      <td>yes</td>\n",
              "      <td>no</td>\n",
              "      <td>yes</td>\n",
              "      <td>no</td>\n",
              "      <td>no</td>\n",
              "      <td>2</td>\n",
              "      <td>yes</td>\n",
              "      <td>semi-furnished</td>\n",
              "    </tr>\n",
              "    <tr>\n",
              "      <th>3</th>\n",
              "      <td>12215000</td>\n",
              "      <td>7500</td>\n",
              "      <td>4</td>\n",
              "      <td>2</td>\n",
              "      <td>2</td>\n",
              "      <td>yes</td>\n",
              "      <td>no</td>\n",
              "      <td>yes</td>\n",
              "      <td>no</td>\n",
              "      <td>yes</td>\n",
              "      <td>3</td>\n",
              "      <td>yes</td>\n",
              "      <td>furnished</td>\n",
              "    </tr>\n",
              "    <tr>\n",
              "      <th>4</th>\n",
              "      <td>11410000</td>\n",
              "      <td>7420</td>\n",
              "      <td>4</td>\n",
              "      <td>1</td>\n",
              "      <td>2</td>\n",
              "      <td>yes</td>\n",
              "      <td>yes</td>\n",
              "      <td>yes</td>\n",
              "      <td>no</td>\n",
              "      <td>yes</td>\n",
              "      <td>2</td>\n",
              "      <td>no</td>\n",
              "      <td>furnished</td>\n",
              "    </tr>\n",
              "  </tbody>\n",
              "</table>\n",
              "</div>"
            ],
            "text/plain": [
              "      price  area  bedrooms  ...  parking  prefarea furnishingstatus\n",
              "0  13300000  7420         4  ...        2       yes        furnished\n",
              "1  12250000  8960         4  ...        3        no        furnished\n",
              "2  12250000  9960         3  ...        2       yes   semi-furnished\n",
              "3  12215000  7500         4  ...        3       yes        furnished\n",
              "4  11410000  7420         4  ...        2        no        furnished\n",
              "\n",
              "[5 rows x 13 columns]"
            ]
          },
          "metadata": {
            "tags": []
          },
          "execution_count": 10
        }
      ]
    },
    {
      "cell_type": "code",
      "metadata": {
        "id": "alAOuWLgyCic",
        "colab_type": "code",
        "colab": {
          "base_uri": "https://localhost:8080/",
          "height": 33
        },
        "outputId": "4d0e3193-e9a6-4d0d-a18f-83b703900539"
      },
      "source": [
        "df[\"furnishingstatus\"].unique()"
      ],
      "execution_count": 11,
      "outputs": [
        {
          "output_type": "execute_result",
          "data": {
            "text/plain": [
              "array(['furnished', 'semi-furnished', 'unfurnished'], dtype=object)"
            ]
          },
          "metadata": {
            "tags": []
          },
          "execution_count": 11
        }
      ]
    },
    {
      "cell_type": "code",
      "metadata": {
        "id": "hOztYvlnnK9F",
        "colab_type": "code",
        "colab": {}
      },
      "source": [
        "## basement,hotwareheating,Airconditioning is just nominal categorical ,guestRoom,Not A RANKING,Right?\n",
        "## So we are going to turn this to Dummies \n",
        "df[\"mainroad\"].replace({\"yes\" :1 , \"no\" : 0},inplace=True)\n",
        "df[\"guestroom\"].replace({\"yes\" :1 , \"no\" : 0},inplace=True)\n",
        "df[\"basement\"].replace({'yes' : 1, \"no\" : 0 },inplace=True)\n",
        "df[\"hotwaterheating\"].replace({\"yes\":1 , \"no\":0},inplace=True)\n",
        "df[\"airconditioning\"].replace({\"yes\":1 , \"no\":0},inplace=True)\n",
        "df[\"prefarea\"].replace({\"yes\":1 , \"no\" :0},inplace=True)\n",
        "df[\"furnishingstatus\"].replace({\"furnished\":2 , \"semi-furnished\":1, \"unfurnished\":0},inplace=True)\n",
        "df[\"TotalRooms\"] = df[\"bedrooms\"].astype(int) + df[\"bathrooms\"].astype(int) +df[\"guestroom\"].astype(int) + df[\"basement\"].astype(int)\n",
        "df[\"HasParking\"] = np.where(df[\"parking\"] > 1 ,1,0)\n",
        "df[\"LotBed\"] = np.where(df[\"bedrooms\"] >= 4,1,0)\n",
        "df[\"LotBathrooms\"] = np.where(df[\"bathrooms\"] >= 3 ,1,0)"
      ],
      "execution_count": 0,
      "outputs": []
    },
    {
      "cell_type": "code",
      "metadata": {
        "id": "YK471Xo4qfYc",
        "colab_type": "code",
        "colab": {}
      },
      "source": [
        "x_features = df.drop([\"bedrooms\",\"bathrooms\",'guestroom',\"basement\",\"TotalRooms\",\"mainroad\",\"parking\"],axis=1)\n",
        "target = np.log(df['price'])\n",
        "from statsmodels.stats.outliers_influence import variance_inflation_factor\n",
        "vif = pd.DataFrame()\n",
        "vif[\"VIF Factor\"] = [variance_inflation_factor(x_features.values, i) for i in range(x_features.shape[1])]\n",
        "vif[\"features\"] = x_features.columns\n",
        "\n"
      ],
      "execution_count": 0,
      "outputs": []
    },
    {
      "cell_type": "code",
      "metadata": {
        "id": "Q062g-8Avlhg",
        "colab_type": "code",
        "colab": {}
      },
      "source": [
        ""
      ],
      "execution_count": 0,
      "outputs": []
    },
    {
      "cell_type": "markdown",
      "metadata": {
        "id": "oGvnj83ZuLwb",
        "colab_type": "text"
      },
      "source": [
        ""
      ]
    },
    {
      "cell_type": "code",
      "metadata": {
        "id": "5KyhOqPQuMC9",
        "colab_type": "code",
        "colab": {}
      },
      "source": [
        "#x_features = df.drop(\"price\",axis=1)\n"
      ],
      "execution_count": 0,
      "outputs": []
    },
    {
      "cell_type": "code",
      "metadata": {
        "id": "kY3wVodjmVf0",
        "colab_type": "code",
        "colab": {}
      },
      "source": [
        "## Check The Type of Problems \n",
        "#sns.pairplot(df)"
      ],
      "execution_count": 0,
      "outputs": []
    },
    {
      "cell_type": "code",
      "metadata": {
        "id": "m_4qgn9n8cIz",
        "colab_type": "code",
        "colab": {
          "base_uri": "https://localhost:8080/",
          "height": 211
        },
        "outputId": "cb376231-22eb-4776-dd33-53e6d63cf4fa"
      },
      "source": [
        "def normalize (x): \n",
        "    return ( (x-np.min(x))/ (max(x) - min(x)))\n",
        "                                            \n",
        "                                              \n",
        "# applying normalize ( ) to all columns \n",
        "df[x_features.columns] = df[x_features.columns].apply(normalize) \n",
        "df.head()"
      ],
      "execution_count": 16,
      "outputs": [
        {
          "output_type": "execute_result",
          "data": {
            "text/html": [
              "<div>\n",
              "<style scoped>\n",
              "    .dataframe tbody tr th:only-of-type {\n",
              "        vertical-align: middle;\n",
              "    }\n",
              "\n",
              "    .dataframe tbody tr th {\n",
              "        vertical-align: top;\n",
              "    }\n",
              "\n",
              "    .dataframe thead th {\n",
              "        text-align: right;\n",
              "    }\n",
              "</style>\n",
              "<table border=\"1\" class=\"dataframe\">\n",
              "  <thead>\n",
              "    <tr style=\"text-align: right;\">\n",
              "      <th></th>\n",
              "      <th>price</th>\n",
              "      <th>area</th>\n",
              "      <th>bedrooms</th>\n",
              "      <th>bathrooms</th>\n",
              "      <th>stories</th>\n",
              "      <th>mainroad</th>\n",
              "      <th>guestroom</th>\n",
              "      <th>basement</th>\n",
              "      <th>hotwaterheating</th>\n",
              "      <th>airconditioning</th>\n",
              "      <th>parking</th>\n",
              "      <th>prefarea</th>\n",
              "      <th>furnishingstatus</th>\n",
              "      <th>TotalRooms</th>\n",
              "      <th>HasParking</th>\n",
              "      <th>LotBed</th>\n",
              "      <th>LotBathrooms</th>\n",
              "    </tr>\n",
              "  </thead>\n",
              "  <tbody>\n",
              "    <tr>\n",
              "      <th>0</th>\n",
              "      <td>1.000000</td>\n",
              "      <td>0.396564</td>\n",
              "      <td>4</td>\n",
              "      <td>2</td>\n",
              "      <td>0.666667</td>\n",
              "      <td>1</td>\n",
              "      <td>0</td>\n",
              "      <td>0</td>\n",
              "      <td>0.0</td>\n",
              "      <td>1.0</td>\n",
              "      <td>2</td>\n",
              "      <td>1.0</td>\n",
              "      <td>1.0</td>\n",
              "      <td>6</td>\n",
              "      <td>1.0</td>\n",
              "      <td>1.0</td>\n",
              "      <td>0.0</td>\n",
              "    </tr>\n",
              "    <tr>\n",
              "      <th>1</th>\n",
              "      <td>0.909091</td>\n",
              "      <td>0.502405</td>\n",
              "      <td>4</td>\n",
              "      <td>4</td>\n",
              "      <td>1.000000</td>\n",
              "      <td>1</td>\n",
              "      <td>0</td>\n",
              "      <td>0</td>\n",
              "      <td>0.0</td>\n",
              "      <td>1.0</td>\n",
              "      <td>3</td>\n",
              "      <td>0.0</td>\n",
              "      <td>1.0</td>\n",
              "      <td>8</td>\n",
              "      <td>1.0</td>\n",
              "      <td>1.0</td>\n",
              "      <td>1.0</td>\n",
              "    </tr>\n",
              "    <tr>\n",
              "      <th>2</th>\n",
              "      <td>0.909091</td>\n",
              "      <td>0.571134</td>\n",
              "      <td>3</td>\n",
              "      <td>2</td>\n",
              "      <td>0.333333</td>\n",
              "      <td>1</td>\n",
              "      <td>0</td>\n",
              "      <td>1</td>\n",
              "      <td>0.0</td>\n",
              "      <td>0.0</td>\n",
              "      <td>2</td>\n",
              "      <td>1.0</td>\n",
              "      <td>0.5</td>\n",
              "      <td>6</td>\n",
              "      <td>1.0</td>\n",
              "      <td>0.0</td>\n",
              "      <td>0.0</td>\n",
              "    </tr>\n",
              "    <tr>\n",
              "      <th>3</th>\n",
              "      <td>0.906061</td>\n",
              "      <td>0.402062</td>\n",
              "      <td>4</td>\n",
              "      <td>2</td>\n",
              "      <td>0.333333</td>\n",
              "      <td>1</td>\n",
              "      <td>0</td>\n",
              "      <td>1</td>\n",
              "      <td>0.0</td>\n",
              "      <td>1.0</td>\n",
              "      <td>3</td>\n",
              "      <td>1.0</td>\n",
              "      <td>1.0</td>\n",
              "      <td>7</td>\n",
              "      <td>1.0</td>\n",
              "      <td>1.0</td>\n",
              "      <td>0.0</td>\n",
              "    </tr>\n",
              "    <tr>\n",
              "      <th>4</th>\n",
              "      <td>0.836364</td>\n",
              "      <td>0.396564</td>\n",
              "      <td>4</td>\n",
              "      <td>1</td>\n",
              "      <td>0.333333</td>\n",
              "      <td>1</td>\n",
              "      <td>1</td>\n",
              "      <td>1</td>\n",
              "      <td>0.0</td>\n",
              "      <td>1.0</td>\n",
              "      <td>2</td>\n",
              "      <td>0.0</td>\n",
              "      <td>1.0</td>\n",
              "      <td>7</td>\n",
              "      <td>1.0</td>\n",
              "      <td>1.0</td>\n",
              "      <td>0.0</td>\n",
              "    </tr>\n",
              "  </tbody>\n",
              "</table>\n",
              "</div>"
            ],
            "text/plain": [
              "      price      area  bedrooms  ...  HasParking  LotBed  LotBathrooms\n",
              "0  1.000000  0.396564         4  ...         1.0     1.0           0.0\n",
              "1  0.909091  0.502405         4  ...         1.0     1.0           1.0\n",
              "2  0.909091  0.571134         3  ...         1.0     0.0           0.0\n",
              "3  0.906061  0.402062         4  ...         1.0     1.0           0.0\n",
              "4  0.836364  0.396564         4  ...         1.0     1.0           0.0\n",
              "\n",
              "[5 rows x 17 columns]"
            ]
          },
          "metadata": {
            "tags": []
          },
          "execution_count": 16
        }
      ]
    },
    {
      "cell_type": "code",
      "metadata": {
        "id": "0CxNtoJzvqGq",
        "colab_type": "code",
        "colab": {}
      },
      "source": [
        "from sklearn.model_selection import GridSearchCV , KFold ,train_test_split\n",
        "from sklearn.metrics import mean_squared_error\n",
        "from sklearn.ensemble import RandomForestRegressor\n",
        "\n",
        "\n",
        "\n",
        "# hyperparams = {\n",
        "#                \"min_samples_split\" : np.arange(1,20,2),\n",
        "#                \"min_samples_leaf\" :[1,3,5],\n",
        "#                \"max_depth\" : np.arange(1,15,1)}\n",
        "kfold = KFold(n_splits=8,shuffle=True,random_state=42)\n",
        "# Model = GridSearchCV(RandomForestRegressor(random_state=42),\n",
        "#                      param_grid = hyperparams,\n",
        "#                      verbose = True,\n",
        "#                      cv = kfold,\n",
        "#                      n_jobs = -1)\n",
        "\n",
        "# Model.fit(x_features,target)\n"
      ],
      "execution_count": 0,
      "outputs": []
    },
    {
      "cell_type": "code",
      "metadata": {
        "id": "-PUd5gW_4flQ",
        "colab_type": "code",
        "colab": {}
      },
      "source": [
        ""
      ],
      "execution_count": 0,
      "outputs": []
    },
    {
      "cell_type": "code",
      "metadata": {
        "id": "utXf7-l0uiOr",
        "colab_type": "code",
        "colab": {
          "base_uri": "https://localhost:8080/",
          "height": 602
        },
        "outputId": "47ee34a0-dd2f-49b9-d754-a4f8238868c4"
      },
      "source": [
        "import statsmodels.api as sm\n",
        "x = sm.add_constant(x_features)\n",
        "linearreg = sm.OLS(target,x).fit()\n",
        "print(linearreg.summary())"
      ],
      "execution_count": 18,
      "outputs": [
        {
          "output_type": "stream",
          "text": [
            "                            OLS Regression Results                            \n",
            "==============================================================================\n",
            "Dep. Variable:                  price   R-squared:                       0.944\n",
            "Model:                            OLS   Adj. R-squared:                  0.943\n",
            "Method:                 Least Squares   F-statistic:                     903.0\n",
            "Date:                Thu, 28 May 2020   Prob (F-statistic):               0.00\n",
            "Time:                        12:00:32   Log-Likelihood:                 552.14\n",
            "No. Observations:                 545   AIC:                            -1082.\n",
            "Df Residuals:                     534   BIC:                            -1035.\n",
            "Df Model:                          10                                         \n",
            "Covariance Type:            nonrobust                                         \n",
            "====================================================================================\n",
            "                       coef    std err          t      P>|t|      [0.025      0.975]\n",
            "------------------------------------------------------------------------------------\n",
            "const               14.3587      0.013   1087.439      0.000      14.333      14.385\n",
            "price             1.844e-07   3.26e-09     56.641      0.000    1.78e-07    1.91e-07\n",
            "area              6.143e-06   2.14e-06      2.872      0.004    1.94e-06    1.03e-05\n",
            "stories              0.0072      0.005      1.419      0.157      -0.003       0.017\n",
            "hotwaterheating      0.0104      0.019      0.552      0.581      -0.027       0.047\n",
            "airconditioning      0.0120      0.010      1.258      0.209      -0.007       0.031\n",
            "prefarea             0.0169      0.010      1.740      0.082      -0.002       0.036\n",
            "furnishingstatus     0.0220      0.005      4.173      0.000       0.012       0.032\n",
            "HasParking          -0.0045      0.010     -0.460      0.645      -0.024       0.015\n",
            "LotBed              -0.0062      0.010     -0.612      0.541      -0.026       0.014\n",
            "LotBathrooms        -0.0956      0.028     -3.358      0.001      -0.151      -0.040\n",
            "==============================================================================\n",
            "Omnibus:                      253.258   Durbin-Watson:                   0.179\n",
            "Prob(Omnibus):                  0.000   Jarque-Bera (JB):             1254.765\n",
            "Skew:                          -2.067   Prob(JB):                    3.40e-273\n",
            "Kurtosis:                       9.178   Cond. No.                     3.85e+07\n",
            "==============================================================================\n",
            "\n",
            "Warnings:\n",
            "[1] Standard Errors assume that the covariance matrix of the errors is correctly specified.\n",
            "[2] The condition number is large, 3.85e+07. This might indicate that there are\n",
            "strong multicollinearity or other numerical problems.\n"
          ],
          "name": "stdout"
        }
      ]
    },
    {
      "cell_type": "markdown",
      "metadata": {
        "id": "LpsNceY9mpbx",
        "colab_type": "text"
      },
      "source": [
        "Well this is not really linear problem ,seems it's more likely Non Linear Problems"
      ]
    },
    {
      "cell_type": "code",
      "metadata": {
        "id": "Ye5FQ9IKmdBV",
        "colab_type": "code",
        "colab": {
          "base_uri": "https://localhost:8080/",
          "height": 358
        },
        "outputId": "92f81e72-774f-4878-f89e-e9e87125c45a"
      },
      "source": [
        "from sklearn.linear_model import ElasticNet\n",
        "alpha = {\"alpha\":np.arange(0.01,5,0.01)}\n",
        "Model_Elastic = GridSearchCV(ElasticNet(),param_grid=alpha,\n",
        "                             cv=kfold,\n",
        "                             verbose=True,\n",
        "                             n_jobs=-1)\n",
        "Model_Elastic.fit(x_features,target)\n"
      ],
      "execution_count": 19,
      "outputs": [
        {
          "output_type": "stream",
          "text": [
            "Fitting 8 folds for each of 499 candidates, totalling 3992 fits\n"
          ],
          "name": "stdout"
        },
        {
          "output_type": "stream",
          "text": [
            "[Parallel(n_jobs=-1)]: Using backend LokyBackend with 2 concurrent workers.\n",
            "[Parallel(n_jobs=-1)]: Done 584 tasks      | elapsed:    3.1s\n",
            "[Parallel(n_jobs=-1)]: Done 3992 out of 3992 | elapsed:   13.1s finished\n"
          ],
          "name": "stderr"
        },
        {
          "output_type": "execute_result",
          "data": {
            "text/plain": [
              "GridSearchCV(cv=KFold(n_splits=8, random_state=42, shuffle=True),\n",
              "             error_score=nan,\n",
              "             estimator=ElasticNet(alpha=1.0, copy_X=True, fit_intercept=True,\n",
              "                                  l1_ratio=0.5, max_iter=1000, normalize=False,\n",
              "                                  positive=False, precompute=False,\n",
              "                                  random_state=None, selection='cyclic',\n",
              "                                  tol=0.0001, warm_start=False),\n",
              "             iid='deprecated', n_jobs=-1,\n",
              "             param_grid={'alpha': array([0.01, 0.02, 0.03...\n",
              "       4.41, 4.42, 4.43, 4.44, 4.45, 4.46, 4.47, 4.48, 4.49, 4.5 , 4.51,\n",
              "       4.52, 4.53, 4.54, 4.55, 4.56, 4.57, 4.58, 4.59, 4.6 , 4.61, 4.62,\n",
              "       4.63, 4.64, 4.65, 4.66, 4.67, 4.68, 4.69, 4.7 , 4.71, 4.72, 4.73,\n",
              "       4.74, 4.75, 4.76, 4.77, 4.78, 4.79, 4.8 , 4.81, 4.82, 4.83, 4.84,\n",
              "       4.85, 4.86, 4.87, 4.88, 4.89, 4.9 , 4.91, 4.92, 4.93, 4.94, 4.95,\n",
              "       4.96, 4.97, 4.98, 4.99])},\n",
              "             pre_dispatch='2*n_jobs', refit=True, return_train_score=False,\n",
              "             scoring=None, verbose=True)"
            ]
          },
          "metadata": {
            "tags": []
          },
          "execution_count": 19
        }
      ]
    },
    {
      "cell_type": "code",
      "metadata": {
        "id": "aKw8U-SE5oIM",
        "colab_type": "code",
        "colab": {
          "base_uri": "https://localhost:8080/",
          "height": 33
        },
        "outputId": "71f3ff64-858f-41f3-b4b0-8bc9604e0cf6"
      },
      "source": [
        "Model_Elastic.best_score_"
      ],
      "execution_count": 20,
      "outputs": [
        {
          "output_type": "execute_result",
          "data": {
            "text/plain": [
              "0.9414426985744095"
            ]
          },
          "metadata": {
            "tags": []
          },
          "execution_count": 20
        }
      ]
    },
    {
      "cell_type": "code",
      "metadata": {
        "id": "Q3H2IIQI6gaL",
        "colab_type": "code",
        "colab": {
          "base_uri": "https://localhost:8080/",
          "height": 33
        },
        "outputId": "2482ab98-8bc9-4e2f-9bfa-b1bf157ba015"
      },
      "source": [
        "x_train,x_test,y_train,y_test = train_test_split(x_features,target,test_size=0.2)\n",
        "Model_ela = ElasticNet(alpha=0.01)\n",
        "Model_ela.fit(x_train,y_train)\n",
        "y_pred = Model_ela.predict(x_test)\n",
        "from sklearn.metrics import mean_squared_error as mse\n",
        "mse(y_test,y_pred)"
      ],
      "execution_count": 21,
      "outputs": [
        {
          "output_type": "execute_result",
          "data": {
            "text/plain": [
              "0.01039957771463529"
            ]
          },
          "metadata": {
            "tags": []
          },
          "execution_count": 21
        }
      ]
    },
    {
      "cell_type": "code",
      "metadata": {
        "id": "BqeqyHG47MtC",
        "colab_type": "code",
        "colab": {
          "base_uri": "https://localhost:8080/",
          "height": 33
        },
        "outputId": "5f6e8678-a40c-4d76-929a-f975c4949366"
      },
      "source": [
        "from sklearn.linear_model import LinearRegression\n",
        "Model_linear = LinearRegression()\n",
        "Model_linear.fit(x_train,y_train)\n",
        "y_pred = Model_linear.predict(x_test)\n",
        "from sklearn.metrics import mean_squared_error as mse\n",
        "mse(y_test,y_pred)"
      ],
      "execution_count": 22,
      "outputs": [
        {
          "output_type": "execute_result",
          "data": {
            "text/plain": [
              "0.010610520036436252"
            ]
          },
          "metadata": {
            "tags": []
          },
          "execution_count": 22
        }
      ]
    },
    {
      "cell_type": "code",
      "metadata": {
        "id": "UX-zJgIr7hwn",
        "colab_type": "code",
        "colab": {
          "base_uri": "https://localhost:8080/",
          "height": 33
        },
        "outputId": "4ce7d2c8-107e-4f12-90cb-ec12d51dbf13"
      },
      "source": [
        "rf = RandomForestRegressor(n_estimators=100,max_depth = 12 , min_samples_leaf = 1, min_samples_split = 15)\n",
        "rf.fit(x_train,y_train)\n",
        "y_pred = rf.predict(x_test)\n",
        "from sklearn.metrics import mean_squared_error as mse\n",
        "mse(y_test,y_pred)"
      ],
      "execution_count": 23,
      "outputs": [
        {
          "output_type": "execute_result",
          "data": {
            "text/plain": [
              "0.0008251762255372632"
            ]
          },
          "metadata": {
            "tags": []
          },
          "execution_count": 23
        }
      ]
    },
    {
      "cell_type": "code",
      "metadata": {
        "id": "Ok4DGeFl6sLT",
        "colab_type": "code",
        "colab": {}
      },
      "source": [
        "# np.sqrt(mse(y_test,y_pred))\n",
        "# from statsmodels.stats.outliers_influence import variance_inflation_factor\n",
        "# vif = pd.DataFrame()\n",
        "# vif[\"VIF Factor\"] = [variance_inflation_factor(x_features.values, i) for i in range(x_features.shape[1])]\n",
        "# vif[\"features\"] = x_features.columns\n",
        "# vif"
      ],
      "execution_count": 0,
      "outputs": []
    },
    {
      "cell_type": "code",
      "metadata": {
        "id": "ORKz7TYS_03W",
        "colab_type": "code",
        "colab": {
          "base_uri": "https://localhost:8080/",
          "height": 300
        },
        "outputId": "6a9e76f8-4746-4e7f-8ac6-2392ca48305f"
      },
      "source": [
        "# x_features = df.drop([\"bedrooms\",\"bathrooms\",'guestroom',\"basement\",\"TotalRooms\",\"mainroad\",\"parking\"],axis=1)\n",
        "# target = df['price']\n",
        "\n",
        "x_train,x_test,y_train,y_test = train_test_split(x_features,target,test_size=0.2)\n",
        "Model_ela = ElasticNet(alpha=0.01)\n",
        "Model_ela.fit(x_train,y_train)\n",
        "y_pred = Model_ela.predict(x_test)\n",
        "from sklearn.metrics import mean_squared_error as mse\n",
        "print(np.sqrt(mse(y_test,y_pred)))\n",
        "c = [i for i in range(1,110,1)]\n",
        "plt.scatter(c,y_test - y_pred)"
      ],
      "execution_count": 25,
      "outputs": [
        {
          "output_type": "stream",
          "text": [
            "0.06272947365594705\n"
          ],
          "name": "stdout"
        },
        {
          "output_type": "execute_result",
          "data": {
            "text/plain": [
              "<matplotlib.collections.PathCollection at 0x7eff5006fd30>"
            ]
          },
          "metadata": {
            "tags": []
          },
          "execution_count": 25
        },
        {
          "output_type": "display_data",
          "data": {
            "image/png": "[encoded data removed]",
            "text/plain": [
              "<Figure size 432x288 with 1 Axes>"
            ]
          },
          "metadata": {
            "tags": [],
            "needs_background": "light"
          }
        }
      ]
    },
    {
      "cell_type": "code",
      "metadata": {
        "id": "YP7ipdwSAzE4",
        "colab_type": "code",
        "colab": {
          "base_uri": "https://localhost:8080/",
          "height": 297
        },
        "outputId": "99d0e27a-ea39-4cec-8b7c-0f6bac4b1b78"
      },
      "source": [
        "rf = RandomForestRegressor(n_estimators=100,max_depth = 12 , min_samples_leaf = 1, min_samples_split = 15)\n",
        "rf.fit(x_train,y_train)\n",
        "y_pred = rf.predict(x_test)\n",
        "from sklearn.metrics import mean_squared_error as mse\n",
        "print(np.sqrt(mse(y_test,y_pred)))\n",
        "c = [i for i in range(1,110,1)]\n",
        "plt.scatter(c,y_test - y_pred)"
      ],
      "execution_count": 26,
      "outputs": [
        {
          "output_type": "stream",
          "text": [
            "0.010534747740436234\n"
          ],
          "name": "stdout"
        },
        {
          "output_type": "execute_result",
          "data": {
            "text/plain": [
              "<matplotlib.collections.PathCollection at 0x7eff4f7b9d30>"
            ]
          },
          "metadata": {
            "tags": []
          },
          "execution_count": 26
        },
        {
          "output_type": "display_data",
          "data": {
            "image/png": "[encoded data removed]",
            "text/plain": [
              "<Figure size 432x288 with 1 Axes>"
            ]
          },
          "metadata": {
            "tags": [],
            "needs_background": "light"
          }
        }
      ]
    },
    {
      "cell_type": "code",
      "metadata": {
        "id": "UJLEhzx1A3ta",
        "colab_type": "code",
        "colab": {
          "base_uri": "https://localhost:8080/",
          "height": 33
        },
        "outputId": "71363713-e2d2-40f7-c6cf-2ea4f5e49844"
      },
      "source": [
        "from sklearn.linear_model import LinearRegression\n",
        "Model_linear = LinearRegression()\n",
        "Model_linear.fit(x_train,y_train)\n",
        "y_pred = Model_linear.predict(x_test)\n",
        "from sklearn.metrics import mean_squared_error as mse\n",
        "np.sqrt(mse(y_test,y_pred))"
      ],
      "execution_count": 27,
      "outputs": [
        {
          "output_type": "execute_result",
          "data": {
            "text/plain": [
              "0.06101123385188067"
            ]
          },
          "metadata": {
            "tags": []
          },
          "execution_count": 27
        }
      ]
    },
    {
      "cell_type": "code",
      "metadata": {
        "id": "ipNZHpgEF9li",
        "colab_type": "code",
        "colab": {
          "base_uri": "https://localhost:8080/",
          "height": 281
        },
        "outputId": "9337690b-bdd4-4d8a-fef6-78d74da84337"
      },
      "source": [
        "c = [i for i in range(1,110,1)]\n",
        "plt.scatter(c,y_test - y_pred)\n",
        "np.sqrt(mse(y_test,y_pred))"
      ],
      "execution_count": 28,
      "outputs": [
        {
          "output_type": "execute_result",
          "data": {
            "text/plain": [
              "0.06101123385188067"
            ]
          },
          "metadata": {
            "tags": []
          },
          "execution_count": 28
        },
        {
          "output_type": "display_data",
          "data": {
            "image/png": "[encoded data removed]",
            "text/plain": [
              "<Figure size 432x288 with 1 Axes>"
            ]
          },
          "metadata": {
            "tags": [],
            "needs_background": "light"
          }
        }
      ]
    }
  ]
}