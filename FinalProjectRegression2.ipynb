{
  "nbformat": 4,
  "nbformat_minor": 0,
  "metadata": {
    "colab": {
      "name": "FinalProjectRegression2.ipynb",
      "provenance": [],
      "collapsed_sections": []
    },
    "kernelspec": {
      "name": "python3",
      "display_name": "Python 3"
    }
  },
  "cells": [
    {
      "cell_type": "code",
      "metadata": {
        "id": "OLG3h2OrlN6Y",
        "colab_type": "code",
        "colab": {
          "base_uri": "https://localhost:8080/",
          "height": 33
        },
        "outputId": "2eaa3bfb-cab7-451d-f6db-e7df44b4cd4b"
      },
      "source": [
        "from google.colab import drive\n",
        "drive.mount(\"/content/drive\")"
      ],
      "execution_count": 90,
      "outputs": [
        {
          "output_type": "stream",
          "text": [
            "Drive already mounted at /content/drive; to attempt to forcibly remount, call drive.mount(\"/content/drive\", force_remount=True).\n"
          ],
          "name": "stdout"
        }
      ]
    },
    {
      "cell_type": "code",
      "metadata": {
        "id": "iY9k7QAVleOi",
        "colab_type": "code",
        "colab": {}
      },
      "source": [
        "import pandas as pd\n",
        "import numpy as np\n",
        "import matplotlib.pyplot as plt\n",
        "import seaborn as sns"
      ],
      "execution_count": 0,
      "outputs": []
    },
    {
      "cell_type": "code",
      "metadata": {
        "id": "TGBuctqDmHsn",
        "colab_type": "code",
        "colab": {
          "base_uri": "https://localhost:8080/",
          "height": 191
        },
        "outputId": "b35ab803-ab41-4053-edfc-5345cf278733"
      },
      "source": [
        "df = pd.read_csv(\"/content/drive/My Drive/DataSet/Housing.csv\",sep=\",\")\n",
        "df.head()"
      ],
      "execution_count": 92,
      "outputs": [
        {
          "output_type": "execute_result",
          "data": {
            "text/html": [
              "<div>\n",
              "<style scoped>\n",
              "    .dataframe tbody tr th:only-of-type {\n",
              "        vertical-align: middle;\n",
              "    }\n",
              "\n",
              "    .dataframe tbody tr th {\n",
              "        vertical-align: top;\n",
              "    }\n",
              "\n",
              "    .dataframe thead th {\n",
              "        text-align: right;\n",
              "    }\n",
              "</style>\n",
              "<table border=\"1\" class=\"dataframe\">\n",
              "  <thead>\n",
              "    <tr style=\"text-align: right;\">\n",
              "      <th></th>\n",
              "      <th>price</th>\n",
              "      <th>area</th>\n",
              "      <th>bedrooms</th>\n",
              "      <th>bathrooms</th>\n",
              "      <th>stories</th>\n",
              "      <th>mainroad</th>\n",
              "      <th>guestroom</th>\n",
              "      <th>basement</th>\n",
              "      <th>hotwaterheating</th>\n",
              "      <th>airconditioning</th>\n",
              "      <th>parking</th>\n",
              "      <th>prefarea</th>\n",
              "      <th>furnishingstatus</th>\n",
              "    </tr>\n",
              "  </thead>\n",
              "  <tbody>\n",
              "    <tr>\n",
              "      <th>0</th>\n",
              "      <td>13300000</td>\n",
              "      <td>7420</td>\n",
              "      <td>4</td>\n",
              "      <td>2</td>\n",
              "      <td>3</td>\n",
              "      <td>yes</td>\n",
              "      <td>no</td>\n",
              "      <td>no</td>\n",
              "      <td>no</td>\n",
              "      <td>yes</td>\n",
              "      <td>2</td>\n",
              "      <td>yes</td>\n",
              "      <td>furnished</td>\n",
              "    </tr>\n",
              "    <tr>\n",
              "      <th>1</th>\n",
              "      <td>12250000</td>\n",
              "      <td>8960</td>\n",
              "      <td>4</td>\n",
              "      <td>4</td>\n",
              "      <td>4</td>\n",
              "      <td>yes</td>\n",
              "      <td>no</td>\n",
              "      <td>no</td>\n",
              "      <td>no</td>\n",
              "      <td>yes</td>\n",
              "      <td>3</td>\n",
              "      <td>no</td>\n",
              "      <td>furnished</td>\n",
              "    </tr>\n",
              "    <tr>\n",
              "      <th>2</th>\n",
              "      <td>12250000</td>\n",
              "      <td>9960</td>\n",
              "      <td>3</td>\n",
              "      <td>2</td>\n",
              "      <td>2</td>\n",
              "      <td>yes</td>\n",
              "      <td>no</td>\n",
              "      <td>yes</td>\n",
              "      <td>no</td>\n",
              "      <td>no</td>\n",
              "      <td>2</td>\n",
              "      <td>yes</td>\n",
              "      <td>semi-furnished</td>\n",
              "    </tr>\n",
              "    <tr>\n",
              "      <th>3</th>\n",
              "      <td>12215000</td>\n",
              "      <td>7500</td>\n",
              "      <td>4</td>\n",
              "      <td>2</td>\n",
              "      <td>2</td>\n",
              "      <td>yes</td>\n",
              "      <td>no</td>\n",
              "      <td>yes</td>\n",
              "      <td>no</td>\n",
              "      <td>yes</td>\n",
              "      <td>3</td>\n",
              "      <td>yes</td>\n",
              "      <td>furnished</td>\n",
              "    </tr>\n",
              "    <tr>\n",
              "      <th>4</th>\n",
              "      <td>11410000</td>\n",
              "      <td>7420</td>\n",
              "      <td>4</td>\n",
              "      <td>1</td>\n",
              "      <td>2</td>\n",
              "      <td>yes</td>\n",
              "      <td>yes</td>\n",
              "      <td>yes</td>\n",
              "      <td>no</td>\n",
              "      <td>yes</td>\n",
              "      <td>2</td>\n",
              "      <td>no</td>\n",
              "      <td>furnished</td>\n",
              "    </tr>\n",
              "  </tbody>\n",
              "</table>\n",
              "</div>"
            ],
            "text/plain": [
              "      price  area  bedrooms  ...  parking  prefarea furnishingstatus\n",
              "0  13300000  7420         4  ...        2       yes        furnished\n",
              "1  12250000  8960         4  ...        3        no        furnished\n",
              "2  12250000  9960         3  ...        2       yes   semi-furnished\n",
              "3  12215000  7500         4  ...        3       yes        furnished\n",
              "4  11410000  7420         4  ...        2        no        furnished\n",
              "\n",
              "[5 rows x 13 columns]"
            ]
          },
          "metadata": {
            "tags": []
          },
          "execution_count": 92
        }
      ]
    },
    {
      "cell_type": "code",
      "metadata": {
        "id": "alAOuWLgyCic",
        "colab_type": "code",
        "colab": {
          "base_uri": "https://localhost:8080/",
          "height": 33
        },
        "outputId": "6834feb0-cdd4-45bf-f71a-c540b35e7758"
      },
      "source": [
        "df[\"furnishingstatus\"].unique()"
      ],
      "execution_count": 93,
      "outputs": [
        {
          "output_type": "execute_result",
          "data": {
            "text/plain": [
              "array(['furnished', 'semi-furnished', 'unfurnished'], dtype=object)"
            ]
          },
          "metadata": {
            "tags": []
          },
          "execution_count": 93
        }
      ]
    },
    {
      "cell_type": "code",
      "metadata": {
        "id": "hOztYvlnnK9F",
        "colab_type": "code",
        "colab": {}
      },
      "source": [
        "## basement,hotwareheating,Airconditioning is just nominal categorical ,guestRoom,Not A RANKING,Right?\n",
        "## So we are going to turn this to Dummies \n",
        "df[\"mainroad\"].replace({\"yes\" :1 , \"no\" : 0},inplace=True)\n",
        "df[\"guestroom\"].replace({\"yes\" :1 , \"no\" : 0},inplace=True)\n",
        "df[\"basement\"].replace({'yes' : 1, \"no\" : 0 },inplace=True)\n",
        "df[\"hotwaterheating\"].replace({\"yes\":1 , \"no\":0},inplace=True)\n",
        "df[\"airconditioning\"].replace({\"yes\":1 , \"no\":0},inplace=True)\n",
        "df[\"prefarea\"].replace({\"yes\":1 , \"no\" :0},inplace=True)\n",
        "df[\"furnishingstatus\"].replace({\"furnished\":2 , \"semi-furnished\":1, \"unfurnished\":0},inplace=True)\n",
        "df[\"TotalRooms\"] = df[\"bedrooms\"].astype(int) + df[\"bathrooms\"].astype(int) +df[\"guestroom\"].astype(int) + df[\"basement\"].astype(int)\n",
        "df[\"HasParking\"] = np.where(df[\"parking\"] > 1 ,1,0)\n",
        "df[\"LotBed\"] = np.where(df[\"bedrooms\"] >= 4,1,0)\n",
        "df[\"LotBathrooms\"] = np.where(df[\"bathrooms\"] >= 3 ,1,0)"
      ],
      "execution_count": 0,
      "outputs": []
    },
    {
      "cell_type": "code",
      "metadata": {
        "id": "YK471Xo4qfYc",
        "colab_type": "code",
        "colab": {
          "base_uri": "https://localhost:8080/",
          "height": 191
        },
        "outputId": "a0279af6-4dcd-4a9f-bee2-0297e03faea9"
      },
      "source": [
        "df.head()"
      ],
      "execution_count": 95,
      "outputs": [
        {
          "output_type": "execute_result",
          "data": {
            "text/html": [
              "<div>\n",
              "<style scoped>\n",
              "    .dataframe tbody tr th:only-of-type {\n",
              "        vertical-align: middle;\n",
              "    }\n",
              "\n",
              "    .dataframe tbody tr th {\n",
              "        vertical-align: top;\n",
              "    }\n",
              "\n",
              "    .dataframe thead th {\n",
              "        text-align: right;\n",
              "    }\n",
              "</style>\n",
              "<table border=\"1\" class=\"dataframe\">\n",
              "  <thead>\n",
              "    <tr style=\"text-align: right;\">\n",
              "      <th></th>\n",
              "      <th>price</th>\n",
              "      <th>area</th>\n",
              "      <th>bedrooms</th>\n",
              "      <th>bathrooms</th>\n",
              "      <th>stories</th>\n",
              "      <th>mainroad</th>\n",
              "      <th>guestroom</th>\n",
              "      <th>basement</th>\n",
              "      <th>hotwaterheating</th>\n",
              "      <th>airconditioning</th>\n",
              "      <th>parking</th>\n",
              "      <th>prefarea</th>\n",
              "      <th>furnishingstatus</th>\n",
              "      <th>TotalRooms</th>\n",
              "      <th>HasParking</th>\n",
              "      <th>LotBed</th>\n",
              "      <th>LotBathrooms</th>\n",
              "    </tr>\n",
              "  </thead>\n",
              "  <tbody>\n",
              "    <tr>\n",
              "      <th>0</th>\n",
              "      <td>13300000</td>\n",
              "      <td>7420</td>\n",
              "      <td>4</td>\n",
              "      <td>2</td>\n",
              "      <td>3</td>\n",
              "      <td>1</td>\n",
              "      <td>0</td>\n",
              "      <td>0</td>\n",
              "      <td>0</td>\n",
              "      <td>1</td>\n",
              "      <td>2</td>\n",
              "      <td>1</td>\n",
              "      <td>2</td>\n",
              "      <td>6</td>\n",
              "      <td>1</td>\n",
              "      <td>1</td>\n",
              "      <td>0</td>\n",
              "    </tr>\n",
              "    <tr>\n",
              "      <th>1</th>\n",
              "      <td>12250000</td>\n",
              "      <td>8960</td>\n",
              "      <td>4</td>\n",
              "      <td>4</td>\n",
              "      <td>4</td>\n",
              "      <td>1</td>\n",
              "      <td>0</td>\n",
              "      <td>0</td>\n",
              "      <td>0</td>\n",
              "      <td>1</td>\n",
              "      <td>3</td>\n",
              "      <td>0</td>\n",
              "      <td>2</td>\n",
              "      <td>8</td>\n",
              "      <td>1</td>\n",
              "      <td>1</td>\n",
              "      <td>1</td>\n",
              "    </tr>\n",
              "    <tr>\n",
              "      <th>2</th>\n",
              "      <td>12250000</td>\n",
              "      <td>9960</td>\n",
              "      <td>3</td>\n",
              "      <td>2</td>\n",
              "      <td>2</td>\n",
              "      <td>1</td>\n",
              "      <td>0</td>\n",
              "      <td>1</td>\n",
              "      <td>0</td>\n",
              "      <td>0</td>\n",
              "      <td>2</td>\n",
              "      <td>1</td>\n",
              "      <td>1</td>\n",
              "      <td>6</td>\n",
              "      <td>1</td>\n",
              "      <td>0</td>\n",
              "      <td>0</td>\n",
              "    </tr>\n",
              "    <tr>\n",
              "      <th>3</th>\n",
              "      <td>12215000</td>\n",
              "      <td>7500</td>\n",
              "      <td>4</td>\n",
              "      <td>2</td>\n",
              "      <td>2</td>\n",
              "      <td>1</td>\n",
              "      <td>0</td>\n",
              "      <td>1</td>\n",
              "      <td>0</td>\n",
              "      <td>1</td>\n",
              "      <td>3</td>\n",
              "      <td>1</td>\n",
              "      <td>2</td>\n",
              "      <td>7</td>\n",
              "      <td>1</td>\n",
              "      <td>1</td>\n",
              "      <td>0</td>\n",
              "    </tr>\n",
              "    <tr>\n",
              "      <th>4</th>\n",
              "      <td>11410000</td>\n",
              "      <td>7420</td>\n",
              "      <td>4</td>\n",
              "      <td>1</td>\n",
              "      <td>2</td>\n",
              "      <td>1</td>\n",
              "      <td>1</td>\n",
              "      <td>1</td>\n",
              "      <td>0</td>\n",
              "      <td>1</td>\n",
              "      <td>2</td>\n",
              "      <td>0</td>\n",
              "      <td>2</td>\n",
              "      <td>7</td>\n",
              "      <td>1</td>\n",
              "      <td>1</td>\n",
              "      <td>0</td>\n",
              "    </tr>\n",
              "  </tbody>\n",
              "</table>\n",
              "</div>"
            ],
            "text/plain": [
              "      price  area  bedrooms  ...  HasParking  LotBed  LotBathrooms\n",
              "0  13300000  7420         4  ...           1       1             0\n",
              "1  12250000  8960         4  ...           1       1             1\n",
              "2  12250000  9960         3  ...           1       0             0\n",
              "3  12215000  7500         4  ...           1       1             0\n",
              "4  11410000  7420         4  ...           1       1             0\n",
              "\n",
              "[5 rows x 17 columns]"
            ]
          },
          "metadata": {
            "tags": []
          },
          "execution_count": 95
        }
      ]
    },
    {
      "cell_type": "code",
      "metadata": {
        "id": "Q062g-8Avlhg",
        "colab_type": "code",
        "colab": {}
      },
      "source": [
        ""
      ],
      "execution_count": 0,
      "outputs": []
    },
    {
      "cell_type": "markdown",
      "metadata": {
        "id": "oGvnj83ZuLwb",
        "colab_type": "text"
      },
      "source": [
        ""
      ]
    },
    {
      "cell_type": "code",
      "metadata": {
        "id": "5KyhOqPQuMC9",
        "colab_type": "code",
        "colab": {}
      },
      "source": [
        "x_features = df.drop(\"price\",axis=1)\n",
        "target = df['price']"
      ],
      "execution_count": 0,
      "outputs": []
    },
    {
      "cell_type": "code",
      "metadata": {
        "id": "kY3wVodjmVf0",
        "colab_type": "code",
        "colab": {}
      },
      "source": [
        "## Check The Type of Problems \n",
        "#sns.pairplot(df)"
      ],
      "execution_count": 0,
      "outputs": []
    },
    {
      "cell_type": "code",
      "metadata": {
        "id": "m_4qgn9n8cIz",
        "colab_type": "code",
        "colab": {}
      },
      "source": [
        "def normalize (x): \n",
        "    return ( (x-np.min(x))/ (max(x) - min(x)))\n",
        "                                            \n",
        "                                              \n",
        "# applying normalize ( ) to all columns \n",
        "df[x_features.columns] = df[x_features.columns].apply(normalize) "
      ],
      "execution_count": 0,
      "outputs": []
    },
    {
      "cell_type": "code",
      "metadata": {
        "id": "0CxNtoJzvqGq",
        "colab_type": "code",
        "colab": {}
      },
      "source": [
        "from sklearn.model_selection import GridSearchCV , KFold ,train_test_split\n",
        "from sklearn.metrics import mean_squared_error\n",
        "from sklearn.ensemble import RandomForestRegressor\n",
        "\n",
        "\n",
        "\n",
        "# hyperparams = {\n",
        "#                \"min_samples_split\" : np.arange(1,20,2),\n",
        "#                \"min_samples_leaf\" :[1,3,5],\n",
        "#                \"max_depth\" : np.arange(1,15,1)}\n",
        "kfold = KFold(n_splits=8,shuffle=True,random_state=42)\n",
        "# Model = GridSearchCV(RandomForestRegressor(random_state=42),\n",
        "#                      param_grid = hyperparams,\n",
        "#                      verbose = True,\n",
        "#                      cv = kfold,\n",
        "#                      n_jobs = -1)\n",
        "\n",
        "# Model.fit(x_features,target)\n"
      ],
      "execution_count": 0,
      "outputs": []
    },
    {
      "cell_type": "code",
      "metadata": {
        "id": "-PUd5gW_4flQ",
        "colab_type": "code",
        "colab": {}
      },
      "source": [
        "df['price'] = np.log(df[\"price\"])"
      ],
      "execution_count": 0,
      "outputs": []
    },
    {
      "cell_type": "code",
      "metadata": {
        "id": "utXf7-l0uiOr",
        "colab_type": "code",
        "colab": {
          "base_uri": "https://localhost:8080/",
          "height": 700
        },
        "outputId": "31393534-8ebd-4603-d490-1b46e80d7454"
      },
      "source": [
        "import statsmodels.api as sm\n",
        "x = sm.add_constant(x_features)\n",
        "linearreg = sm.OLS(target,x).fit()\n",
        "print(linearreg.summary())"
      ],
      "execution_count": 101,
      "outputs": [
        {
          "output_type": "stream",
          "text": [
            "                            OLS Regression Results                            \n",
            "==============================================================================\n",
            "Dep. Variable:                  price   R-squared:                       0.681\n",
            "Model:                            OLS   Adj. R-squared:                  0.672\n",
            "Method:                 Least Squares   F-statistic:                     75.25\n",
            "Date:                Thu, 28 May 2020   Prob (F-statistic):          1.67e-120\n",
            "Time:                        11:21:05   Log-Likelihood:                -8332.3\n",
            "No. Observations:                 545   AIC:                         1.670e+04\n",
            "Df Residuals:                     529   BIC:                         1.677e+04\n",
            "Df Model:                          15                                         \n",
            "Covariance Type:            nonrobust                                         \n",
            "====================================================================================\n",
            "                       coef    std err          t      P>|t|      [0.025      0.975]\n",
            "------------------------------------------------------------------------------------\n",
            "const            -3.778e+05   3.19e+05     -1.185      0.236      -1e+06    2.48e+05\n",
            "area               241.9545     24.460      9.892      0.000     193.903     290.006\n",
            "bedrooms         -1.865e+05   9.82e+04     -1.900      0.058   -3.79e+05    6338.547\n",
            "bathrooms         5.829e+05   1.06e+05      5.474      0.000    3.74e+05    7.92e+05\n",
            "stories           4.498e+05   6.52e+04      6.895      0.000    3.22e+05    5.78e+05\n",
            "mainroad          4.303e+05   1.43e+05      3.006      0.003    1.49e+05    7.12e+05\n",
            "guestroom        -5.174e+04   1.19e+05     -0.435      0.664   -2.85e+05    1.82e+05\n",
            "basement          5531.0591   1.11e+05      0.050      0.960   -2.13e+05    2.24e+05\n",
            "hotwaterheating   8.707e+05   2.24e+05      3.885      0.000     4.3e+05    1.31e+06\n",
            "airconditioning   8.643e+05   1.09e+05      7.912      0.000     6.5e+05    1.08e+06\n",
            "parking           3.037e+05   1.12e+05      2.713      0.007    8.38e+04    5.24e+05\n",
            "prefarea          6.473e+05   1.17e+05      5.542      0.000    4.18e+05    8.77e+05\n",
            "furnishingstatus  2.186e+05   6.35e+04      3.445      0.001    9.39e+04    3.43e+05\n",
            "TotalRooms        3.502e+05   3.91e+04      8.947      0.000    2.73e+05    4.27e+05\n",
            "HasParking       -6.037e+04   2.27e+05     -0.266      0.790   -5.06e+05    3.86e+05\n",
            "LotBed           -1.012e+05    1.9e+05     -0.532      0.595   -4.75e+05    2.72e+05\n",
            "LotBathrooms      3.991e+05    3.9e+05      1.024      0.306   -3.66e+05    1.16e+06\n",
            "==============================================================================\n",
            "Omnibus:                       98.762   Durbin-Watson:                   1.215\n",
            "Prob(Omnibus):                  0.000   Jarque-Bera (JB):              273.191\n",
            "Skew:                           0.886   Prob(JB):                     4.76e-60\n",
            "Kurtosis:                       5.982   Cond. No.                     1.37e+18\n",
            "==============================================================================\n",
            "\n",
            "Warnings:\n",
            "[1] Standard Errors assume that the covariance matrix of the errors is correctly specified.\n",
            "[2] The smallest eigenvalue is 9.06e-27. This might indicate that there are\n",
            "strong multicollinearity problems or that the design matrix is singular.\n"
          ],
          "name": "stdout"
        }
      ]
    },
    {
      "cell_type": "markdown",
      "metadata": {
        "id": "LpsNceY9mpbx",
        "colab_type": "text"
      },
      "source": [
        "Well this is not really linear problem ,seems it's more likely Non Linear Problems"
      ]
    },
    {
      "cell_type": "code",
      "metadata": {
        "id": "Ye5FQ9IKmdBV",
        "colab_type": "code",
        "colab": {
          "base_uri": "https://localhost:8080/",
          "height": 358
        },
        "outputId": "7f6662d8-a702-4b8d-c622-d0fe4ecdbf39"
      },
      "source": [
        "from sklearn.linear_model import ElasticNet\n",
        "alpha = {\"alpha\":np.arange(0.01,5,0.01)}\n",
        "Model_Elastic = GridSearchCV(ElasticNet(),param_grid=alpha,\n",
        "                             cv=kfold,\n",
        "                             verbose=True,\n",
        "                             n_jobs=-1)\n",
        "Model_Elastic.fit(x_features,target)\n"
      ],
      "execution_count": 102,
      "outputs": [
        {
          "output_type": "stream",
          "text": [
            "Fitting 8 folds for each of 499 candidates, totalling 3992 fits\n"
          ],
          "name": "stdout"
        },
        {
          "output_type": "stream",
          "text": [
            "[Parallel(n_jobs=-1)]: Using backend LokyBackend with 2 concurrent workers.\n",
            "[Parallel(n_jobs=-1)]: Done 584 tasks      | elapsed:    3.2s\n",
            "[Parallel(n_jobs=-1)]: Done 3992 out of 3992 | elapsed:   13.5s finished\n"
          ],
          "name": "stderr"
        },
        {
          "output_type": "execute_result",
          "data": {
            "text/plain": [
              "GridSearchCV(cv=KFold(n_splits=8, random_state=42, shuffle=True),\n",
              "             error_score=nan,\n",
              "             estimator=ElasticNet(alpha=1.0, copy_X=True, fit_intercept=True,\n",
              "                                  l1_ratio=0.5, max_iter=1000, normalize=False,\n",
              "                                  positive=False, precompute=False,\n",
              "                                  random_state=None, selection='cyclic',\n",
              "                                  tol=0.0001, warm_start=False),\n",
              "             iid='deprecated', n_jobs=-1,\n",
              "             param_grid={'alpha': array([0.01, 0.02, 0.03...\n",
              "       4.41, 4.42, 4.43, 4.44, 4.45, 4.46, 4.47, 4.48, 4.49, 4.5 , 4.51,\n",
              "       4.52, 4.53, 4.54, 4.55, 4.56, 4.57, 4.58, 4.59, 4.6 , 4.61, 4.62,\n",
              "       4.63, 4.64, 4.65, 4.66, 4.67, 4.68, 4.69, 4.7 , 4.71, 4.72, 4.73,\n",
              "       4.74, 4.75, 4.76, 4.77, 4.78, 4.79, 4.8 , 4.81, 4.82, 4.83, 4.84,\n",
              "       4.85, 4.86, 4.87, 4.88, 4.89, 4.9 , 4.91, 4.92, 4.93, 4.94, 4.95,\n",
              "       4.96, 4.97, 4.98, 4.99])},\n",
              "             pre_dispatch='2*n_jobs', refit=True, return_train_score=False,\n",
              "             scoring=None, verbose=True)"
            ]
          },
          "metadata": {
            "tags": []
          },
          "execution_count": 102
        }
      ]
    },
    {
      "cell_type": "code",
      "metadata": {
        "id": "aKw8U-SE5oIM",
        "colab_type": "code",
        "colab": {
          "base_uri": "https://localhost:8080/",
          "height": 33
        },
        "outputId": "4f9ea3d5-08a1-4925-dad7-ae9fd5af81e9"
      },
      "source": [
        "Model_Elastic.best_score_\n",
        "Model_Elastic.best_params_"
      ],
      "execution_count": 103,
      "outputs": [
        {
          "output_type": "execute_result",
          "data": {
            "text/plain": [
              "{'alpha': 0.05}"
            ]
          },
          "metadata": {
            "tags": []
          },
          "execution_count": 103
        }
      ]
    },
    {
      "cell_type": "code",
      "metadata": {
        "id": "Q3H2IIQI6gaL",
        "colab_type": "code",
        "colab": {
          "base_uri": "https://localhost:8080/",
          "height": 33
        },
        "outputId": "9164aadc-6016-4d67-c800-c021d7ad8588"
      },
      "source": [
        "x_train,x_test,y_train,y_test = train_test_split(x_features,target,test_size=0.2)\n",
        "Model_ela = ElasticNet(alpha=0.05)\n",
        "Model_ela.fit(x_train,y_train)\n",
        "y_pred = Model_ela.predict(x_test)\n",
        "from sklearn.metrics import mean_squared_error as mse\n",
        "mse(y_test,y_pred)"
      ],
      "execution_count": 104,
      "outputs": [
        {
          "output_type": "execute_result",
          "data": {
            "text/plain": [
              "1055640233575.0232"
            ]
          },
          "metadata": {
            "tags": []
          },
          "execution_count": 104
        }
      ]
    },
    {
      "cell_type": "code",
      "metadata": {
        "id": "BqeqyHG47MtC",
        "colab_type": "code",
        "colab": {
          "base_uri": "https://localhost:8080/",
          "height": 33
        },
        "outputId": "060bb40b-ddf6-4b1a-85ff-9298e58a819e"
      },
      "source": [
        "from sklearn.linear_model import LinearRegression\n",
        "Model_linear = LinearRegression()\n",
        "Model_linear.fit(x_train,y_train)\n",
        "y_pred = Model_linear.predict(x_test)\n",
        "from sklearn.metrics import mean_squared_error as mse\n",
        "mse(y_test,y_pred)"
      ],
      "execution_count": 105,
      "outputs": [
        {
          "output_type": "execute_result",
          "data": {
            "text/plain": [
              "1042703218232.813"
            ]
          },
          "metadata": {
            "tags": []
          },
          "execution_count": 105
        }
      ]
    },
    {
      "cell_type": "code",
      "metadata": {
        "id": "UX-zJgIr7hwn",
        "colab_type": "code",
        "colab": {
          "base_uri": "https://localhost:8080/",
          "height": 33
        },
        "outputId": "3e96e1f0-47c4-4a41-9698-9933d74a2ad8"
      },
      "source": [
        "rf = RandomForestRegressor(n_estimators=100,max_depth = 12 , min_samples_leaf = 1, min_samples_split = 15)\n",
        "rf.fit(x_train,y_train)\n",
        "y_pred = rf.predict(x_test)\n",
        "from sklearn.metrics import mean_squared_error as mse\n",
        "mse(y_test,y_pred)"
      ],
      "execution_count": 106,
      "outputs": [
        {
          "output_type": "execute_result",
          "data": {
            "text/plain": [
              "1025519722232.1195"
            ]
          },
          "metadata": {
            "tags": []
          },
          "execution_count": 106
        }
      ]
    },
    {
      "cell_type": "code",
      "metadata": {
        "id": "Ok4DGeFl6sLT",
        "colab_type": "code",
        "colab": {
          "base_uri": "https://localhost:8080/",
          "height": 50
        },
        "outputId": "fffa2ec5-4777-4aab-d428-1489b29d6ad6"
      },
      "source": [
        "np.sqrt(mse(y_test,y_pred))\n",
        "from statsmodels.stats.outliers_influence import variance_inflation_factor\n",
        "vif = pd.DataFrame()\n",
        "vif[\"VIF Factor\"] = [variance_inflation_factor(x_features.values, i) for i in range(x_features.shape[1])]\n",
        "vif[\"features\"] = x_features.columns"
      ],
      "execution_count": 107,
      "outputs": [
        {
          "output_type": "stream",
          "text": [
            "/usr/local/lib/python3.6/dist-packages/statsmodels/stats/outliers_influence.py:185: RuntimeWarning: divide by zero encountered in double_scalars\n",
            "  vif = 1. / (1. - r_squared_i)\n"
          ],
          "name": "stderr"
        }
      ]
    },
    {
      "cell_type": "code",
      "metadata": {
        "id": "ORKz7TYS_03W",
        "colab_type": "code",
        "colab": {
          "base_uri": "https://localhost:8080/",
          "height": 33
        },
        "outputId": "1f2adab1-8cd4-4ca9-aed7-b25c3cfe1d7e"
      },
      "source": [
        "x_features = df.drop([\"bedrooms\",\"bathrooms\",'guestroom',\"basement\",\"TotalRooms\",\"mainroad\"],axis=1)\n",
        "target = df['price']\n",
        "\n",
        "x_train,x_test,y_train,y_test = train_test_split(x_features,target,test_size=0.2)\n",
        "Model_ela = ElasticNet(alpha=0.05)\n",
        "Model_ela.fit(x_train,y_train)\n",
        "y_pred = Model_ela.predict(x_test)\n",
        "from sklearn.metrics import mean_squared_error as mse\n",
        "np.sqrt(mse(y_test,y_pred))"
      ],
      "execution_count": 108,
      "outputs": [
        {
          "output_type": "execute_result",
          "data": {
            "text/plain": [
              "0.11549015827740199"
            ]
          },
          "metadata": {
            "tags": []
          },
          "execution_count": 108
        }
      ]
    },
    {
      "cell_type": "code",
      "metadata": {
        "id": "YP7ipdwSAzE4",
        "colab_type": "code",
        "colab": {
          "base_uri": "https://localhost:8080/",
          "height": 33
        },
        "outputId": "c821d412-156e-4334-bb01-01515ac25941"
      },
      "source": [
        "rf = RandomForestRegressor(n_estimators=100,max_depth = 12 , min_samples_leaf = 1, min_samples_split = 15)\n",
        "rf.fit(x_train,y_train)\n",
        "y_pred = rf.predict(x_test)\n",
        "from sklearn.metrics import mean_squared_error as mse\n",
        "np.sqrt(mse(y_test,y_pred))"
      ],
      "execution_count": 109,
      "outputs": [
        {
          "output_type": "execute_result",
          "data": {
            "text/plain": [
              "0.022042436432266332"
            ]
          },
          "metadata": {
            "tags": []
          },
          "execution_count": 109
        }
      ]
    },
    {
      "cell_type": "code",
      "metadata": {
        "id": "UJLEhzx1A3ta",
        "colab_type": "code",
        "colab": {}
      },
      "source": [
        "#LOL\n"
      ],
      "execution_count": 0,
      "outputs": []
    }
  ]
}