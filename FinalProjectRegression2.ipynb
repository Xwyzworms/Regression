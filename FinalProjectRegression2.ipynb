{
  "nbformat": 4,
  "nbformat_minor": 0,
  "metadata": {
    "colab": {
      "name": "FinalProjectRegression2.ipynb",
      "provenance": [],
      "collapsed_sections": []
    },
    "kernelspec": {
      "name": "python3",
      "display_name": "Python 3"
    }
  },
  "cells": [
    {
      "cell_type": "code",
      "metadata": {
        "id": "OLG3h2OrlN6Y",
        "colab_type": "code",
        "colab": {
          "base_uri": "https://localhost:8080/",
          "height": 33
        },
        "outputId": "d8c26af1-312b-4b2f-ceae-ad9b90d610c0"
      },
      "source": [
        "from google.colab import drive\n",
        "drive.mount(\"/content/drive\")"
      ],
      "execution_count": 449,
      "outputs": [
        {
          "output_type": "stream",
          "text": [
            "Drive already mounted at /content/drive; to attempt to forcibly remount, call drive.mount(\"/content/drive\", force_remount=True).\n"
          ],
          "name": "stdout"
        }
      ]
    },
    {
      "cell_type": "code",
      "metadata": {
        "id": "iY9k7QAVleOi",
        "colab_type": "code",
        "colab": {}
      },
      "source": [
        "import pandas as pd\n",
        "import numpy as np\n",
        "import matplotlib.pyplot as plt\n",
        "import seaborn as sns"
      ],
      "execution_count": 0,
      "outputs": []
    },
    {
      "cell_type": "code",
      "metadata": {
        "id": "TGBuctqDmHsn",
        "colab_type": "code",
        "colab": {
          "base_uri": "https://localhost:8080/",
          "height": 191
        },
        "outputId": "6f28545f-9b3f-4dba-b5a9-a0d58099b421"
      },
      "source": [
        "df = pd.read_csv(\"/content/drive/My Drive/DataSet/Housing.csv\",sep=\",\")\n",
        "df.head()"
      ],
      "execution_count": 451,
      "outputs": [
        {
          "output_type": "execute_result",
          "data": {
            "text/html": [
              "<div>\n",
              "<style scoped>\n",
              "    .dataframe tbody tr th:only-of-type {\n",
              "        vertical-align: middle;\n",
              "    }\n",
              "\n",
              "    .dataframe tbody tr th {\n",
              "        vertical-align: top;\n",
              "    }\n",
              "\n",
              "    .dataframe thead th {\n",
              "        text-align: right;\n",
              "    }\n",
              "</style>\n",
              "<table border=\"1\" class=\"dataframe\">\n",
              "  <thead>\n",
              "    <tr style=\"text-align: right;\">\n",
              "      <th></th>\n",
              "      <th>price</th>\n",
              "      <th>area</th>\n",
              "      <th>bedrooms</th>\n",
              "      <th>bathrooms</th>\n",
              "      <th>stories</th>\n",
              "      <th>mainroad</th>\n",
              "      <th>guestroom</th>\n",
              "      <th>basement</th>\n",
              "      <th>hotwaterheating</th>\n",
              "      <th>airconditioning</th>\n",
              "      <th>parking</th>\n",
              "      <th>prefarea</th>\n",
              "      <th>furnishingstatus</th>\n",
              "    </tr>\n",
              "  </thead>\n",
              "  <tbody>\n",
              "    <tr>\n",
              "      <th>0</th>\n",
              "      <td>13300000</td>\n",
              "      <td>7420</td>\n",
              "      <td>4</td>\n",
              "      <td>2</td>\n",
              "      <td>3</td>\n",
              "      <td>yes</td>\n",
              "      <td>no</td>\n",
              "      <td>no</td>\n",
              "      <td>no</td>\n",
              "      <td>yes</td>\n",
              "      <td>2</td>\n",
              "      <td>yes</td>\n",
              "      <td>furnished</td>\n",
              "    </tr>\n",
              "    <tr>\n",
              "      <th>1</th>\n",
              "      <td>12250000</td>\n",
              "      <td>8960</td>\n",
              "      <td>4</td>\n",
              "      <td>4</td>\n",
              "      <td>4</td>\n",
              "      <td>yes</td>\n",
              "      <td>no</td>\n",
              "      <td>no</td>\n",
              "      <td>no</td>\n",
              "      <td>yes</td>\n",
              "      <td>3</td>\n",
              "      <td>no</td>\n",
              "      <td>furnished</td>\n",
              "    </tr>\n",
              "    <tr>\n",
              "      <th>2</th>\n",
              "      <td>12250000</td>\n",
              "      <td>9960</td>\n",
              "      <td>3</td>\n",
              "      <td>2</td>\n",
              "      <td>2</td>\n",
              "      <td>yes</td>\n",
              "      <td>no</td>\n",
              "      <td>yes</td>\n",
              "      <td>no</td>\n",
              "      <td>no</td>\n",
              "      <td>2</td>\n",
              "      <td>yes</td>\n",
              "      <td>semi-furnished</td>\n",
              "    </tr>\n",
              "    <tr>\n",
              "      <th>3</th>\n",
              "      <td>12215000</td>\n",
              "      <td>7500</td>\n",
              "      <td>4</td>\n",
              "      <td>2</td>\n",
              "      <td>2</td>\n",
              "      <td>yes</td>\n",
              "      <td>no</td>\n",
              "      <td>yes</td>\n",
              "      <td>no</td>\n",
              "      <td>yes</td>\n",
              "      <td>3</td>\n",
              "      <td>yes</td>\n",
              "      <td>furnished</td>\n",
              "    </tr>\n",
              "    <tr>\n",
              "      <th>4</th>\n",
              "      <td>11410000</td>\n",
              "      <td>7420</td>\n",
              "      <td>4</td>\n",
              "      <td>1</td>\n",
              "      <td>2</td>\n",
              "      <td>yes</td>\n",
              "      <td>yes</td>\n",
              "      <td>yes</td>\n",
              "      <td>no</td>\n",
              "      <td>yes</td>\n",
              "      <td>2</td>\n",
              "      <td>no</td>\n",
              "      <td>furnished</td>\n",
              "    </tr>\n",
              "  </tbody>\n",
              "</table>\n",
              "</div>"
            ],
            "text/plain": [
              "      price  area  bedrooms  ...  parking  prefarea furnishingstatus\n",
              "0  13300000  7420         4  ...        2       yes        furnished\n",
              "1  12250000  8960         4  ...        3        no        furnished\n",
              "2  12250000  9960         3  ...        2       yes   semi-furnished\n",
              "3  12215000  7500         4  ...        3       yes        furnished\n",
              "4  11410000  7420         4  ...        2        no        furnished\n",
              "\n",
              "[5 rows x 13 columns]"
            ]
          },
          "metadata": {
            "tags": []
          },
          "execution_count": 451
        }
      ]
    },
    {
      "cell_type": "code",
      "metadata": {
        "id": "alAOuWLgyCic",
        "colab_type": "code",
        "colab": {
          "base_uri": "https://localhost:8080/",
          "height": 33
        },
        "outputId": "c1bb6e7e-bb3a-47b6-f78f-c7236911c527"
      },
      "source": [
        "df[\"furnishingstatus\"].unique()"
      ],
      "execution_count": 452,
      "outputs": [
        {
          "output_type": "execute_result",
          "data": {
            "text/plain": [
              "array(['furnished', 'semi-furnished', 'unfurnished'], dtype=object)"
            ]
          },
          "metadata": {
            "tags": []
          },
          "execution_count": 452
        }
      ]
    },
    {
      "cell_type": "code",
      "metadata": {
        "id": "hOztYvlnnK9F",
        "colab_type": "code",
        "colab": {
          "base_uri": "https://localhost:8080/",
          "height": 191
        },
        "outputId": "2161db14-c003-461c-f123-bf7c4ffc9931"
      },
      "source": [
        "## basement,hotwareheating,Airconditioning is just nominal categorical ,guestRoom,Not A RANKING,Right?\n",
        "## So we are going to turn this to Dummies \n",
        "df[\"mainroad\"].replace({\"yes\" :1 , \"no\" : 0},inplace=True)\n",
        "df[\"guestroom\"].replace({\"yes\" :1 , \"no\" : 0},inplace=True)\n",
        "df[\"basement\"].replace({'yes' : 1, \"no\" : 0 },inplace=True)\n",
        "df[\"hotwaterheating\"].replace({\"yes\":1 , \"no\":0},inplace=True)\n",
        "df[\"airconditioning\"].replace({\"yes\":1 , \"no\":0},inplace=True)\n",
        "df[\"prefarea\"].replace({\"yes\":1 , \"no\" :0},inplace=True)\n",
        "df[\"TotalRooms\"] = df[\"bedrooms\"].astype(int) + df[\"bathrooms\"].astype(int) +df[\"guestroom\"].astype(int) + df[\"basement\"].astype(int)\n",
        "df[\"HasParking\"] = np.where(df[\"parking\"] > 1 ,1,0)\n",
        "df[\"LotBed\"] = np.where(df[\"bedrooms\"] >= 4,1,0)\n",
        "df[\"LotBathrooms\"] = np.where(df[\"bathrooms\"] >= 3 ,1,0)\n",
        "df[\"furnishingstatus\"].replace({\"unfurnished\":0,\"furnished\":2,\"semi-furnished\":1},inplace=True)\n",
        "#df=pd.concat([df,pd.get_dummies(df[\"furnishingstatus\"],drop_first=True)],axis=1)\n",
        "#df.drop(\"furnishingstatus\",axis=1,inplace=True)\n",
        "df.head()"
      ],
      "execution_count": 453,
      "outputs": [
        {
          "output_type": "execute_result",
          "data": {
            "text/html": [
              "<div>\n",
              "<style scoped>\n",
              "    .dataframe tbody tr th:only-of-type {\n",
              "        vertical-align: middle;\n",
              "    }\n",
              "\n",
              "    .dataframe tbody tr th {\n",
              "        vertical-align: top;\n",
              "    }\n",
              "\n",
              "    .dataframe thead th {\n",
              "        text-align: right;\n",
              "    }\n",
              "</style>\n",
              "<table border=\"1\" class=\"dataframe\">\n",
              "  <thead>\n",
              "    <tr style=\"text-align: right;\">\n",
              "      <th></th>\n",
              "      <th>price</th>\n",
              "      <th>area</th>\n",
              "      <th>bedrooms</th>\n",
              "      <th>bathrooms</th>\n",
              "      <th>stories</th>\n",
              "      <th>mainroad</th>\n",
              "      <th>guestroom</th>\n",
              "      <th>basement</th>\n",
              "      <th>hotwaterheating</th>\n",
              "      <th>airconditioning</th>\n",
              "      <th>parking</th>\n",
              "      <th>prefarea</th>\n",
              "      <th>furnishingstatus</th>\n",
              "      <th>TotalRooms</th>\n",
              "      <th>HasParking</th>\n",
              "      <th>LotBed</th>\n",
              "      <th>LotBathrooms</th>\n",
              "    </tr>\n",
              "  </thead>\n",
              "  <tbody>\n",
              "    <tr>\n",
              "      <th>0</th>\n",
              "      <td>13300000</td>\n",
              "      <td>7420</td>\n",
              "      <td>4</td>\n",
              "      <td>2</td>\n",
              "      <td>3</td>\n",
              "      <td>1</td>\n",
              "      <td>0</td>\n",
              "      <td>0</td>\n",
              "      <td>0</td>\n",
              "      <td>1</td>\n",
              "      <td>2</td>\n",
              "      <td>1</td>\n",
              "      <td>2</td>\n",
              "      <td>6</td>\n",
              "      <td>1</td>\n",
              "      <td>1</td>\n",
              "      <td>0</td>\n",
              "    </tr>\n",
              "    <tr>\n",
              "      <th>1</th>\n",
              "      <td>12250000</td>\n",
              "      <td>8960</td>\n",
              "      <td>4</td>\n",
              "      <td>4</td>\n",
              "      <td>4</td>\n",
              "      <td>1</td>\n",
              "      <td>0</td>\n",
              "      <td>0</td>\n",
              "      <td>0</td>\n",
              "      <td>1</td>\n",
              "      <td>3</td>\n",
              "      <td>0</td>\n",
              "      <td>2</td>\n",
              "      <td>8</td>\n",
              "      <td>1</td>\n",
              "      <td>1</td>\n",
              "      <td>1</td>\n",
              "    </tr>\n",
              "    <tr>\n",
              "      <th>2</th>\n",
              "      <td>12250000</td>\n",
              "      <td>9960</td>\n",
              "      <td>3</td>\n",
              "      <td>2</td>\n",
              "      <td>2</td>\n",
              "      <td>1</td>\n",
              "      <td>0</td>\n",
              "      <td>1</td>\n",
              "      <td>0</td>\n",
              "      <td>0</td>\n",
              "      <td>2</td>\n",
              "      <td>1</td>\n",
              "      <td>1</td>\n",
              "      <td>6</td>\n",
              "      <td>1</td>\n",
              "      <td>0</td>\n",
              "      <td>0</td>\n",
              "    </tr>\n",
              "    <tr>\n",
              "      <th>3</th>\n",
              "      <td>12215000</td>\n",
              "      <td>7500</td>\n",
              "      <td>4</td>\n",
              "      <td>2</td>\n",
              "      <td>2</td>\n",
              "      <td>1</td>\n",
              "      <td>0</td>\n",
              "      <td>1</td>\n",
              "      <td>0</td>\n",
              "      <td>1</td>\n",
              "      <td>3</td>\n",
              "      <td>1</td>\n",
              "      <td>2</td>\n",
              "      <td>7</td>\n",
              "      <td>1</td>\n",
              "      <td>1</td>\n",
              "      <td>0</td>\n",
              "    </tr>\n",
              "    <tr>\n",
              "      <th>4</th>\n",
              "      <td>11410000</td>\n",
              "      <td>7420</td>\n",
              "      <td>4</td>\n",
              "      <td>1</td>\n",
              "      <td>2</td>\n",
              "      <td>1</td>\n",
              "      <td>1</td>\n",
              "      <td>1</td>\n",
              "      <td>0</td>\n",
              "      <td>1</td>\n",
              "      <td>2</td>\n",
              "      <td>0</td>\n",
              "      <td>2</td>\n",
              "      <td>7</td>\n",
              "      <td>1</td>\n",
              "      <td>1</td>\n",
              "      <td>0</td>\n",
              "    </tr>\n",
              "  </tbody>\n",
              "</table>\n",
              "</div>"
            ],
            "text/plain": [
              "      price  area  bedrooms  ...  HasParking  LotBed  LotBathrooms\n",
              "0  13300000  7420         4  ...           1       1             0\n",
              "1  12250000  8960         4  ...           1       1             1\n",
              "2  12250000  9960         3  ...           1       0             0\n",
              "3  12215000  7500         4  ...           1       1             0\n",
              "4  11410000  7420         4  ...           1       1             0\n",
              "\n",
              "[5 rows x 17 columns]"
            ]
          },
          "metadata": {
            "tags": []
          },
          "execution_count": 453
        }
      ]
    },
    {
      "cell_type": "code",
      "metadata": {
        "id": "YK471Xo4qfYc",
        "colab_type": "code",
        "colab": {}
      },
      "source": [
        ""
      ],
      "execution_count": 0,
      "outputs": []
    },
    {
      "cell_type": "code",
      "metadata": {
        "id": "Q062g-8Avlhg",
        "colab_type": "code",
        "colab": {}
      },
      "source": [
        ""
      ],
      "execution_count": 0,
      "outputs": []
    },
    {
      "cell_type": "markdown",
      "metadata": {
        "id": "oGvnj83ZuLwb",
        "colab_type": "text"
      },
      "source": [
        ""
      ]
    },
    {
      "cell_type": "code",
      "metadata": {
        "id": "5KyhOqPQuMC9",
        "colab_type": "code",
        "colab": {}
      },
      "source": [
        "#x_features = df.drop(\"price\",axis=1)\n"
      ],
      "execution_count": 0,
      "outputs": []
    },
    {
      "cell_type": "code",
      "metadata": {
        "id": "kY3wVodjmVf0",
        "colab_type": "code",
        "colab": {}
      },
      "source": [
        "## Check The Type of Problems \n",
        "#sns.pairplot(df)"
      ],
      "execution_count": 0,
      "outputs": []
    },
    {
      "cell_type": "code",
      "metadata": {
        "id": "m_4qgn9n8cIz",
        "colab_type": "code",
        "colab": {
          "base_uri": "https://localhost:8080/",
          "height": 335
        },
        "outputId": "5b8e7c84-ff1d-423a-9533-f2443b87a9e2"
      },
      "source": [
        "def normalize (x): \n",
        "    return ( (x-np.min(x))/ (max(x) - min(x)))\n",
        "                                            \n",
        "                                              \n",
        "# applying normalize ( ) to all columns \n",
        "#df[x_features.columns] = df[x_features.columns].apply(normalize) \n",
        "df = df.apply(normalize)\n",
        "df.head()\n",
        "x_features = df.drop([\"bedrooms\",\"basement\",\"HasParking\",\"LotBathrooms\",\"price\",\"TotalRooms\",\"LotBed\"],axis=1)\n",
        "#target = np.log(df['price'])\n",
        "target =df['price']\n",
        "from statsmodels.stats.outliers_influence import variance_inflation_factor\n",
        "vif = pd.DataFrame()\n",
        "vif[\"VIF Factor\"] = [variance_inflation_factor(x_features.values, i) for i in range(x_features.shape[1])]\n",
        "vif[\"features\"] = x_features.columns\n",
        "vif\n"
      ],
      "execution_count": 456,
      "outputs": [
        {
          "output_type": "execute_result",
          "data": {
            "text/html": [
              "<div>\n",
              "<style scoped>\n",
              "    .dataframe tbody tr th:only-of-type {\n",
              "        vertical-align: middle;\n",
              "    }\n",
              "\n",
              "    .dataframe tbody tr th {\n",
              "        vertical-align: top;\n",
              "    }\n",
              "\n",
              "    .dataframe thead th {\n",
              "        text-align: right;\n",
              "    }\n",
              "</style>\n",
              "<table border=\"1\" class=\"dataframe\">\n",
              "  <thead>\n",
              "    <tr style=\"text-align: right;\">\n",
              "      <th></th>\n",
              "      <th>VIF Factor</th>\n",
              "      <th>features</th>\n",
              "    </tr>\n",
              "  </thead>\n",
              "  <tbody>\n",
              "    <tr>\n",
              "      <th>0</th>\n",
              "      <td>4.395740</td>\n",
              "      <td>area</td>\n",
              "    </tr>\n",
              "    <tr>\n",
              "      <th>1</th>\n",
              "      <td>1.593821</td>\n",
              "      <td>bathrooms</td>\n",
              "    </tr>\n",
              "    <tr>\n",
              "      <th>2</th>\n",
              "      <td>2.212826</td>\n",
              "      <td>stories</td>\n",
              "    </tr>\n",
              "    <tr>\n",
              "      <th>3</th>\n",
              "      <td>4.727456</td>\n",
              "      <td>mainroad</td>\n",
              "    </tr>\n",
              "    <tr>\n",
              "      <th>4</th>\n",
              "      <td>1.297333</td>\n",
              "      <td>guestroom</td>\n",
              "    </tr>\n",
              "    <tr>\n",
              "      <th>5</th>\n",
              "      <td>1.082633</td>\n",
              "      <td>hotwaterheating</td>\n",
              "    </tr>\n",
              "    <tr>\n",
              "      <th>6</th>\n",
              "      <td>1.760955</td>\n",
              "      <td>airconditioning</td>\n",
              "    </tr>\n",
              "    <tr>\n",
              "      <th>7</th>\n",
              "      <td>1.986085</td>\n",
              "      <td>parking</td>\n",
              "    </tr>\n",
              "    <tr>\n",
              "      <th>8</th>\n",
              "      <td>1.440694</td>\n",
              "      <td>prefarea</td>\n",
              "    </tr>\n",
              "    <tr>\n",
              "      <th>9</th>\n",
              "      <td>2.580066</td>\n",
              "      <td>furnishingstatus</td>\n",
              "    </tr>\n",
              "  </tbody>\n",
              "</table>\n",
              "</div>"
            ],
            "text/plain": [
              "   VIF Factor          features\n",
              "0    4.395740              area\n",
              "1    1.593821         bathrooms\n",
              "2    2.212826           stories\n",
              "3    4.727456          mainroad\n",
              "4    1.297333         guestroom\n",
              "5    1.082633   hotwaterheating\n",
              "6    1.760955   airconditioning\n",
              "7    1.986085           parking\n",
              "8    1.440694          prefarea\n",
              "9    2.580066  furnishingstatus"
            ]
          },
          "metadata": {
            "tags": []
          },
          "execution_count": 456
        }
      ]
    },
    {
      "cell_type": "code",
      "metadata": {
        "id": "0CxNtoJzvqGq",
        "colab_type": "code",
        "colab": {}
      },
      "source": [
        "from sklearn.model_selection import GridSearchCV , KFold ,train_test_split\n",
        "from sklearn.metrics import mean_squared_error\n",
        "from sklearn.ensemble import RandomForestRegressor\n",
        "\n",
        "\n",
        "\n",
        "# hyperparams = {\n",
        "#                \"min_samples_split\" : np.arange(1,20,2),\n",
        "#                \"min_samples_leaf\" :[1,3,5],\n",
        "#                \"max_depth\" : np.arange(1,15,1)}\n",
        "kfold = KFold(n_splits=8,shuffle=True,random_state=42)\n",
        "# Model = GridSearchCV(RandomForestRegressor(random_state=42),\n",
        "#                      param_grid = hyperparams,\n",
        "#                      verbose = True,\n",
        "#                      cv = kfold,\n",
        "#                      n_jobs = -1)\n",
        "\n",
        "# Model.fit(x_features,target)\n"
      ],
      "execution_count": 0,
      "outputs": []
    },
    {
      "cell_type": "code",
      "metadata": {
        "id": "-PUd5gW_4flQ",
        "colab_type": "code",
        "colab": {}
      },
      "source": [
        ""
      ],
      "execution_count": 0,
      "outputs": []
    },
    {
      "cell_type": "code",
      "metadata": {
        "id": "utXf7-l0uiOr",
        "colab_type": "code",
        "colab": {
          "base_uri": "https://localhost:8080/",
          "height": 570
        },
        "outputId": "98ca1170-932e-4e30-9c17-d38e09e8126c"
      },
      "source": [
        "import statsmodels.api as sm\n",
        "x = sm.add_constant(x_features)\n",
        "linearreg = sm.OLS(target,x).fit()\n",
        "print(linearreg.summary())"
      ],
      "execution_count": 458,
      "outputs": [
        {
          "output_type": "stream",
          "text": [
            "                            OLS Regression Results                            \n",
            "==============================================================================\n",
            "Dep. Variable:                  price   R-squared:                       0.671\n",
            "Model:                            OLS   Adj. R-squared:                  0.665\n",
            "Method:                 Least Squares   F-statistic:                     108.9\n",
            "Date:                Thu, 28 May 2020   Prob (F-statistic):          5.30e-122\n",
            "Time:                        12:35:59   Log-Likelihood:                 522.34\n",
            "No. Observations:                 545   AIC:                            -1023.\n",
            "Df Residuals:                     534   BIC:                            -975.4\n",
            "Df Model:                          10                                         \n",
            "Covariance Type:            nonrobust                                         \n",
            "====================================================================================\n",
            "                       coef    std err          t      P>|t|      [0.025      0.975]\n",
            "------------------------------------------------------------------------------------\n",
            "const                0.0165      0.012      1.383      0.167      -0.007       0.040\n",
            "area                 0.3036      0.031      9.843      0.000       0.243       0.364\n",
            "bathrooms            0.2783      0.026     10.575      0.000       0.227       0.330\n",
            "stories              0.1131      0.015      7.377      0.000       0.083       0.143\n",
            "mainroad             0.0344      0.012      2.775      0.006       0.010       0.059\n",
            "guestroom            0.0392      0.011      3.617      0.000       0.018       0.061\n",
            "hotwaterheating      0.0774      0.020      3.956      0.000       0.039       0.116\n",
            "airconditioning      0.0749      0.009      7.894      0.000       0.056       0.094\n",
            "parking              0.0754      0.015      4.910      0.000       0.045       0.106\n",
            "prefarea             0.0631      0.010      6.339      0.000       0.044       0.083\n",
            "furnishingstatus     0.0403      0.011      3.654      0.000       0.019       0.062\n",
            "==============================================================================\n",
            "Omnibus:                      106.044   Durbin-Watson:                   1.210\n",
            "Prob(Omnibus):                  0.000   Jarque-Bera (JB):              291.224\n",
            "Skew:                           0.952   Prob(JB):                     5.78e-64\n",
            "Kurtosis:                       6.033   Cond. No.                         12.5\n",
            "==============================================================================\n",
            "\n",
            "Warnings:\n",
            "[1] Standard Errors assume that the covariance matrix of the errors is correctly specified.\n"
          ],
          "name": "stdout"
        }
      ]
    },
    {
      "cell_type": "markdown",
      "metadata": {
        "id": "LpsNceY9mpbx",
        "colab_type": "text"
      },
      "source": [
        "Well this is not really linear problem ,seems it's more likely Non Linear Problems"
      ]
    },
    {
      "cell_type": "code",
      "metadata": {
        "id": "Ye5FQ9IKmdBV",
        "colab_type": "code",
        "colab": {
          "base_uri": "https://localhost:8080/",
          "height": 358
        },
        "outputId": "cef18222-4a70-4400-a761-83b5cbad3f1b"
      },
      "source": [
        "from sklearn.linear_model import ElasticNet\n",
        "alpha = {\"alpha\":np.arange(0.01,5,0.01)}\n",
        "Model_Elastic = GridSearchCV(ElasticNet(),param_grid=alpha,\n",
        "                             cv=kfold,\n",
        "                             verbose=True,\n",
        "                             n_jobs=-1)\n",
        "Model_Elastic.fit(x_features,target)\n"
      ],
      "execution_count": 459,
      "outputs": [
        {
          "output_type": "stream",
          "text": [
            "Fitting 8 folds for each of 499 candidates, totalling 3992 fits\n"
          ],
          "name": "stdout"
        },
        {
          "output_type": "stream",
          "text": [
            "[Parallel(n_jobs=-1)]: Using backend LokyBackend with 2 concurrent workers.\n",
            "[Parallel(n_jobs=-1)]: Done 956 tasks      | elapsed:    3.0s\n",
            "[Parallel(n_jobs=-1)]: Done 3992 out of 3992 | elapsed:   12.3s finished\n"
          ],
          "name": "stderr"
        },
        {
          "output_type": "execute_result",
          "data": {
            "text/plain": [
              "GridSearchCV(cv=KFold(n_splits=8, random_state=42, shuffle=True),\n",
              "             error_score=nan,\n",
              "             estimator=ElasticNet(alpha=1.0, copy_X=True, fit_intercept=True,\n",
              "                                  l1_ratio=0.5, max_iter=1000, normalize=False,\n",
              "                                  positive=False, precompute=False,\n",
              "                                  random_state=None, selection='cyclic',\n",
              "                                  tol=0.0001, warm_start=False),\n",
              "             iid='deprecated', n_jobs=-1,\n",
              "             param_grid={'alpha': array([0.01, 0.02, 0.03...\n",
              "       4.41, 4.42, 4.43, 4.44, 4.45, 4.46, 4.47, 4.48, 4.49, 4.5 , 4.51,\n",
              "       4.52, 4.53, 4.54, 4.55, 4.56, 4.57, 4.58, 4.59, 4.6 , 4.61, 4.62,\n",
              "       4.63, 4.64, 4.65, 4.66, 4.67, 4.68, 4.69, 4.7 , 4.71, 4.72, 4.73,\n",
              "       4.74, 4.75, 4.76, 4.77, 4.78, 4.79, 4.8 , 4.81, 4.82, 4.83, 4.84,\n",
              "       4.85, 4.86, 4.87, 4.88, 4.89, 4.9 , 4.91, 4.92, 4.93, 4.94, 4.95,\n",
              "       4.96, 4.97, 4.98, 4.99])},\n",
              "             pre_dispatch='2*n_jobs', refit=True, return_train_score=False,\n",
              "             scoring=None, verbose=True)"
            ]
          },
          "metadata": {
            "tags": []
          },
          "execution_count": 459
        }
      ]
    },
    {
      "cell_type": "code",
      "metadata": {
        "id": "aKw8U-SE5oIM",
        "colab_type": "code",
        "colab": {
          "base_uri": "https://localhost:8080/",
          "height": 33
        },
        "outputId": "ad846a47-778c-4410-c2ca-bc61baf4515d"
      },
      "source": [
        "Model_Elastic.best_score_"
      ],
      "execution_count": 460,
      "outputs": [
        {
          "output_type": "execute_result",
          "data": {
            "text/plain": [
              "0.5457467326512735"
            ]
          },
          "metadata": {
            "tags": []
          },
          "execution_count": 460
        }
      ]
    },
    {
      "cell_type": "code",
      "metadata": {
        "id": "Q3H2IIQI6gaL",
        "colab_type": "code",
        "colab": {
          "base_uri": "https://localhost:8080/",
          "height": 33
        },
        "outputId": "48bd9047-5eb9-46d5-a256-3efd53872f04"
      },
      "source": [
        "x_train,x_test,y_train,y_test = train_test_split(x_features,target,test_size=0.2)\n",
        "Model_ela = ElasticNet(alpha=0.01)\n",
        "Model_ela.fit(x_train,y_train)\n",
        "y_pred = Model_ela.predict(x_test)\n",
        "from sklearn.metrics import mean_squared_error as mse\n",
        "mse(y_test,y_pred)"
      ],
      "execution_count": 461,
      "outputs": [
        {
          "output_type": "execute_result",
          "data": {
            "text/plain": [
              "0.00976640215301366"
            ]
          },
          "metadata": {
            "tags": []
          },
          "execution_count": 461
        }
      ]
    },
    {
      "cell_type": "code",
      "metadata": {
        "id": "BqeqyHG47MtC",
        "colab_type": "code",
        "colab": {
          "base_uri": "https://localhost:8080/",
          "height": 33
        },
        "outputId": "9aedf9a8-1028-46be-8329-9469f789c971"
      },
      "source": [
        "from sklearn.linear_model import LinearRegression\n",
        "Model_linear = LinearRegression()\n",
        "Model_linear.fit(x_train,y_train)\n",
        "y_pred = Model_linear.predict(x_test)\n",
        "from sklearn.metrics import mean_squared_error as mse\n",
        "mse(y_test,y_pred)"
      ],
      "execution_count": 462,
      "outputs": [
        {
          "output_type": "execute_result",
          "data": {
            "text/plain": [
              "0.00788671129586959"
            ]
          },
          "metadata": {
            "tags": []
          },
          "execution_count": 462
        }
      ]
    },
    {
      "cell_type": "code",
      "metadata": {
        "id": "UX-zJgIr7hwn",
        "colab_type": "code",
        "colab": {
          "base_uri": "https://localhost:8080/",
          "height": 33
        },
        "outputId": "e68064bf-6374-4ea1-9fcc-eb298ee7e8fd"
      },
      "source": [
        "rf = RandomForestRegressor(n_estimators=100,max_depth = 12 , min_samples_leaf = 1, min_samples_split = 15)\n",
        "rf.fit(x_train,y_train)\n",
        "y_pred = rf.predict(x_test)\n",
        "from sklearn.metrics import mean_squared_error as mse\n",
        "mse(y_test,y_pred)"
      ],
      "execution_count": 463,
      "outputs": [
        {
          "output_type": "execute_result",
          "data": {
            "text/plain": [
              "0.008965430228560898"
            ]
          },
          "metadata": {
            "tags": []
          },
          "execution_count": 463
        }
      ]
    },
    {
      "cell_type": "code",
      "metadata": {
        "id": "Ok4DGeFl6sLT",
        "colab_type": "code",
        "colab": {}
      },
      "source": [
        "# np.sqrt(mse(y_test,y_pred))\n",
        "# from statsmodels.stats.outliers_influence import variance_inflation_factor\n",
        "# vif = pd.DataFrame()\n",
        "# vif[\"VIF Factor\"] = [variance_inflation_factor(x_features.values, i) for i in range(x_features.shape[1])]\n",
        "# vif[\"features\"] = x_features.columns\n",
        "# vif"
      ],
      "execution_count": 0,
      "outputs": []
    },
    {
      "cell_type": "code",
      "metadata": {
        "id": "ORKz7TYS_03W",
        "colab_type": "code",
        "colab": {
          "base_uri": "https://localhost:8080/",
          "height": 297
        },
        "outputId": "7e64bf1c-1d08-4598-dd79-3897fafd3e27"
      },
      "source": [
        "# x_features = df.drop([\"bedrooms\",\"bathrooms\",'guestroom',\"basement\",\"TotalRooms\",\"mainroad\",\"parking\"],axis=1)\n",
        "# target = df['price']\n",
        "\n",
        "x_train,x_test,y_train,y_test = train_test_split(x_features,target,test_size=0.2)\n",
        "Model_ela = ElasticNet(alpha=0.01)\n",
        "Model_ela.fit(x_train,y_train)\n",
        "y_pred = Model_ela.predict(x_test)\n",
        "from sklearn.metrics import mean_squared_error as mse\n",
        "print(np.sqrt(mse(y_test,y_pred)))\n",
        "c = [i for i in range(1,110,1)]\n",
        "plt.scatter(c,y_test - y_pred)"
      ],
      "execution_count": 465,
      "outputs": [
        {
          "output_type": "stream",
          "text": [
            "0.09492892597281015\n"
          ],
          "name": "stdout"
        },
        {
          "output_type": "execute_result",
          "data": {
            "text/plain": [
              "<matplotlib.collections.PathCollection at 0x7eff49215ac8>"
            ]
          },
          "metadata": {
            "tags": []
          },
          "execution_count": 465
        },
        {
          "output_type": "display_data",
          "data": {
            "image/png": "[encoded data removed]",
            "text/plain": [
              "<Figure size 432x288 with 1 Axes>"
            ]
          },
          "metadata": {
            "tags": [],
            "needs_background": "light"
          }
        }
      ]
    },
    {
      "cell_type": "code",
      "metadata": {
        "id": "YP7ipdwSAzE4",
        "colab_type": "code",
        "colab": {
          "base_uri": "https://localhost:8080/",
          "height": 301
        },
        "outputId": "f34c8151-86ca-4dd3-c5bd-affe619776ad"
      },
      "source": [
        "rf = RandomForestRegressor(n_estimators=100,max_depth = 12 , min_samples_leaf = 1, min_samples_split = 15)\n",
        "rf.fit(x_train,y_train)\n",
        "y_pred = rf.predict(x_test)\n",
        "from sklearn.metrics import mean_squared_error as mse\n",
        "print(np.sqrt(mse(y_test,y_pred)))\n",
        "c = [i for i in range(1,110,1)]\n",
        "plt.scatter(c,y_test - y_pred)"
      ],
      "execution_count": 466,
      "outputs": [
        {
          "output_type": "stream",
          "text": [
            "0.09207109358929591\n"
          ],
          "name": "stdout"
        },
        {
          "output_type": "execute_result",
          "data": {
            "text/plain": [
              "<matplotlib.collections.PathCollection at 0x7eff4919eac8>"
            ]
          },
          "metadata": {
            "tags": []
          },
          "execution_count": 466
        },
        {
          "output_type": "display_data",
          "data": {
            "image/png": "[encoded data removed]",
            "text/plain": [
              "<Figure size 432x288 with 1 Axes>"
            ]
          },
          "metadata": {
            "tags": [],
            "needs_background": "light"
          }
        }
      ]
    },
    {
      "cell_type": "code",
      "metadata": {
        "id": "UJLEhzx1A3ta",
        "colab_type": "code",
        "colab": {
          "base_uri": "https://localhost:8080/",
          "height": 33
        },
        "outputId": "6f3199a9-fdca-4a14-dbf4-c0b7dce3379c"
      },
      "source": [
        "from sklearn.linear_model import LinearRegression\n",
        "Model_linear = LinearRegression()\n",
        "Model_linear.fit(x_train,y_train)\n",
        "y_pred = Model_linear.predict(x_test)\n",
        "from sklearn.metrics import mean_squared_error as mse\n",
        "np.sqrt(mse(y_test,y_pred))"
      ],
      "execution_count": 467,
      "outputs": [
        {
          "output_type": "execute_result",
          "data": {
            "text/plain": [
              "0.09113878674121374"
            ]
          },
          "metadata": {
            "tags": []
          },
          "execution_count": 467
        }
      ]
    },
    {
      "cell_type": "code",
      "metadata": {
        "id": "ipNZHpgEF9li",
        "colab_type": "code",
        "colab": {
          "base_uri": "https://localhost:8080/",
          "height": 281
        },
        "outputId": "17d8516c-75b8-4e41-9091-d2f013964f1e"
      },
      "source": [
        "c = [i for i in range(1,110,1)]\n",
        "plt.scatter(c,y_test - y_pred)"
      ],
      "execution_count": 468,
      "outputs": [
        {
          "output_type": "execute_result",
          "data": {
            "text/plain": [
              "<matplotlib.collections.PathCollection at 0x7eff49097128>"
            ]
          },
          "metadata": {
            "tags": []
          },
          "execution_count": 468
        },
        {
          "output_type": "display_data",
          "data": {
            "image/png": "[encoded data removed]",
            "text/plain": [
              "<Figure size 432x288 with 1 Axes>"
            ]
          },
          "metadata": {
            "tags": [],
            "needs_background": "light"
          }
        }
      ]
    }
  ]
}