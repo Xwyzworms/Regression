{
  "nbformat": 4,
  "nbformat_minor": 0,
  "metadata": {
    "colab": {
      "name": "Lasso_Ridge(Regulation).ipynb",
      "provenance": [],
      "collapsed_sections": []
    },
    "kernelspec": {
      "name": "python3",
      "display_name": "Python 3"
    }
  },
  "cells": [
    {
      "cell_type": "code",
      "metadata": {
        "id": "PcHaoAZXzFR_",
        "colab_type": "code",
        "outputId": "444e03cb-3cbf-4e76-b0a7-c7f3de77bb9b",
        "colab": {
          "base_uri": "https://localhost:8080/",
          "height": 34
        }
      },
      "source": [
        "from google.colab import drive\n",
        "drive.mount(\"/content/drive\")"
      ],
      "execution_count": 34,
      "outputs": [
        {
          "output_type": "stream",
          "text": [
            "Drive already mounted at /content/drive; to attempt to forcibly remount, call drive.mount(\"/content/drive\", force_remount=True).\n"
          ],
          "name": "stdout"
        }
      ]
    },
    {
      "cell_type": "code",
      "metadata": {
        "id": "AuQ1TWHvzS3M",
        "colab_type": "code",
        "colab": {}
      },
      "source": [
        "import matplotlib.pyplot as plt\n",
        "import seaborn as sns\n",
        "import numpy as np\n",
        "import pandas as pd"
      ],
      "execution_count": 0,
      "outputs": []
    },
    {
      "cell_type": "code",
      "metadata": {
        "id": "Hm-xcJc5zS-Y",
        "colab_type": "code",
        "outputId": "e46abcfb-349a-45e5-ca6a-3a3cd87445d5",
        "colab": {
          "base_uri": "https://localhost:8080/",
          "height": 204
        }
      },
      "source": [
        "df=pd.read_csv(\"/content/drive/My Drive/DataSet/winequality-red.csv\",sep=\";\")\n",
        "df.rename(columns=lambda x : x.replace( \" \", \"_\" ),inplace=True)\n",
        "df.head()\n"
      ],
      "execution_count": 36,
      "outputs": [
        {
          "output_type": "execute_result",
          "data": {
            "text/html": [
              "<div>\n",
              "<style scoped>\n",
              "    .dataframe tbody tr th:only-of-type {\n",
              "        vertical-align: middle;\n",
              "    }\n",
              "\n",
              "    .dataframe tbody tr th {\n",
              "        vertical-align: top;\n",
              "    }\n",
              "\n",
              "    .dataframe thead th {\n",
              "        text-align: right;\n",
              "    }\n",
              "</style>\n",
              "<table border=\"1\" class=\"dataframe\">\n",
              "  <thead>\n",
              "    <tr style=\"text-align: right;\">\n",
              "      <th></th>\n",
              "      <th>fixed_acidity</th>\n",
              "      <th>volatile_acidity</th>\n",
              "      <th>citric_acid</th>\n",
              "      <th>residual_sugar</th>\n",
              "      <th>chlorides</th>\n",
              "      <th>free_sulfur_dioxide</th>\n",
              "      <th>total_sulfur_dioxide</th>\n",
              "      <th>density</th>\n",
              "      <th>pH</th>\n",
              "      <th>sulphates</th>\n",
              "      <th>alcohol</th>\n",
              "      <th>quality</th>\n",
              "    </tr>\n",
              "  </thead>\n",
              "  <tbody>\n",
              "    <tr>\n",
              "      <th>0</th>\n",
              "      <td>7.4</td>\n",
              "      <td>0.70</td>\n",
              "      <td>0.00</td>\n",
              "      <td>1.9</td>\n",
              "      <td>0.076</td>\n",
              "      <td>11.0</td>\n",
              "      <td>34.0</td>\n",
              "      <td>0.9978</td>\n",
              "      <td>3.51</td>\n",
              "      <td>0.56</td>\n",
              "      <td>9.4</td>\n",
              "      <td>5</td>\n",
              "    </tr>\n",
              "    <tr>\n",
              "      <th>1</th>\n",
              "      <td>7.8</td>\n",
              "      <td>0.88</td>\n",
              "      <td>0.00</td>\n",
              "      <td>2.6</td>\n",
              "      <td>0.098</td>\n",
              "      <td>25.0</td>\n",
              "      <td>67.0</td>\n",
              "      <td>0.9968</td>\n",
              "      <td>3.20</td>\n",
              "      <td>0.68</td>\n",
              "      <td>9.8</td>\n",
              "      <td>5</td>\n",
              "    </tr>\n",
              "    <tr>\n",
              "      <th>2</th>\n",
              "      <td>7.8</td>\n",
              "      <td>0.76</td>\n",
              "      <td>0.04</td>\n",
              "      <td>2.3</td>\n",
              "      <td>0.092</td>\n",
              "      <td>15.0</td>\n",
              "      <td>54.0</td>\n",
              "      <td>0.9970</td>\n",
              "      <td>3.26</td>\n",
              "      <td>0.65</td>\n",
              "      <td>9.8</td>\n",
              "      <td>5</td>\n",
              "    </tr>\n",
              "    <tr>\n",
              "      <th>3</th>\n",
              "      <td>11.2</td>\n",
              "      <td>0.28</td>\n",
              "      <td>0.56</td>\n",
              "      <td>1.9</td>\n",
              "      <td>0.075</td>\n",
              "      <td>17.0</td>\n",
              "      <td>60.0</td>\n",
              "      <td>0.9980</td>\n",
              "      <td>3.16</td>\n",
              "      <td>0.58</td>\n",
              "      <td>9.8</td>\n",
              "      <td>6</td>\n",
              "    </tr>\n",
              "    <tr>\n",
              "      <th>4</th>\n",
              "      <td>7.4</td>\n",
              "      <td>0.70</td>\n",
              "      <td>0.00</td>\n",
              "      <td>1.9</td>\n",
              "      <td>0.076</td>\n",
              "      <td>11.0</td>\n",
              "      <td>34.0</td>\n",
              "      <td>0.9978</td>\n",
              "      <td>3.51</td>\n",
              "      <td>0.56</td>\n",
              "      <td>9.4</td>\n",
              "      <td>5</td>\n",
              "    </tr>\n",
              "  </tbody>\n",
              "</table>\n",
              "</div>"
            ],
            "text/plain": [
              "   fixed_acidity  volatile_acidity  citric_acid  ...  sulphates  alcohol  quality\n",
              "0            7.4              0.70         0.00  ...       0.56      9.4        5\n",
              "1            7.8              0.88         0.00  ...       0.68      9.8        5\n",
              "2            7.8              0.76         0.04  ...       0.65      9.8        5\n",
              "3           11.2              0.28         0.56  ...       0.58      9.8        6\n",
              "4            7.4              0.70         0.00  ...       0.56      9.4        5\n",
              "\n",
              "[5 rows x 12 columns]"
            ]
          },
          "metadata": {
            "tags": []
          },
          "execution_count": 36
        }
      ]
    },
    {
      "cell_type": "code",
      "metadata": {
        "id": "2iajPM9P2AZW",
        "colab_type": "code",
        "colab": {}
      },
      "source": [
        "from sklearn.preprocessing import MinMaxScaler\n",
        "Sc=MinMaxScaler()\n",
        "StandarizedDataSet=Sc.fit_transform(df)\n"
      ],
      "execution_count": 0,
      "outputs": []
    },
    {
      "cell_type": "code",
      "metadata": {
        "id": "gv65xkTa3WK5",
        "colab_type": "code",
        "outputId": "68aa91a7-a877-4d4a-b0d4-d3681a86d764",
        "colab": {
          "base_uri": "https://localhost:8080/",
          "height": 578
        }
      },
      "source": [
        "plt.figure(figsize=(8,6))\n",
        "sns.distplot(StandarizedDataSet,norm_hist=True,bins=50)\n",
        "print(\"Mean -- > \",round(StandarizedDataSet.mean(),4),\"Variance --> \",StandarizedDataSet.var())\n",
        "## The CLT Works !!! , \n",
        "plt.show()\n",
        "df.head()"
      ],
      "execution_count": 38,
      "outputs": [
        {
          "output_type": "stream",
          "text": [
            "Mean -- >  0.2871 Variance -->  0.03700781637454174\n"
          ],
          "name": "stdout"
        },
        {
          "output_type": "display_data",
          "data": {
            "image/png": "[encoded data removed]",
            "text/plain": [
              "<Figure size 576x432 with 1 Axes>"
            ]
          },
          "metadata": {
            "tags": [],
            "needs_background": "light"
          }
        },
        {
          "output_type": "execute_result",
          "data": {
            "text/html": [
              "<div>\n",
              "<style scoped>\n",
              "    .dataframe tbody tr th:only-of-type {\n",
              "        vertical-align: middle;\n",
              "    }\n",
              "\n",
              "    .dataframe tbody tr th {\n",
              "        vertical-align: top;\n",
              "    }\n",
              "\n",
              "    .dataframe thead th {\n",
              "        text-align: right;\n",
              "    }\n",
              "</style>\n",
              "<table border=\"1\" class=\"dataframe\">\n",
              "  <thead>\n",
              "    <tr style=\"text-align: right;\">\n",
              "      <th></th>\n",
              "      <th>fixed_acidity</th>\n",
              "      <th>volatile_acidity</th>\n",
              "      <th>citric_acid</th>\n",
              "      <th>residual_sugar</th>\n",
              "      <th>chlorides</th>\n",
              "      <th>free_sulfur_dioxide</th>\n",
              "      <th>total_sulfur_dioxide</th>\n",
              "      <th>density</th>\n",
              "      <th>pH</th>\n",
              "      <th>sulphates</th>\n",
              "      <th>alcohol</th>\n",
              "      <th>quality</th>\n",
              "    </tr>\n",
              "  </thead>\n",
              "  <tbody>\n",
              "    <tr>\n",
              "      <th>0</th>\n",
              "      <td>7.4</td>\n",
              "      <td>0.70</td>\n",
              "      <td>0.00</td>\n",
              "      <td>1.9</td>\n",
              "      <td>0.076</td>\n",
              "      <td>11.0</td>\n",
              "      <td>34.0</td>\n",
              "      <td>0.9978</td>\n",
              "      <td>3.51</td>\n",
              "      <td>0.56</td>\n",
              "      <td>9.4</td>\n",
              "      <td>5</td>\n",
              "    </tr>\n",
              "    <tr>\n",
              "      <th>1</th>\n",
              "      <td>7.8</td>\n",
              "      <td>0.88</td>\n",
              "      <td>0.00</td>\n",
              "      <td>2.6</td>\n",
              "      <td>0.098</td>\n",
              "      <td>25.0</td>\n",
              "      <td>67.0</td>\n",
              "      <td>0.9968</td>\n",
              "      <td>3.20</td>\n",
              "      <td>0.68</td>\n",
              "      <td>9.8</td>\n",
              "      <td>5</td>\n",
              "    </tr>\n",
              "    <tr>\n",
              "      <th>2</th>\n",
              "      <td>7.8</td>\n",
              "      <td>0.76</td>\n",
              "      <td>0.04</td>\n",
              "      <td>2.3</td>\n",
              "      <td>0.092</td>\n",
              "      <td>15.0</td>\n",
              "      <td>54.0</td>\n",
              "      <td>0.9970</td>\n",
              "      <td>3.26</td>\n",
              "      <td>0.65</td>\n",
              "      <td>9.8</td>\n",
              "      <td>5</td>\n",
              "    </tr>\n",
              "    <tr>\n",
              "      <th>3</th>\n",
              "      <td>11.2</td>\n",
              "      <td>0.28</td>\n",
              "      <td>0.56</td>\n",
              "      <td>1.9</td>\n",
              "      <td>0.075</td>\n",
              "      <td>17.0</td>\n",
              "      <td>60.0</td>\n",
              "      <td>0.9980</td>\n",
              "      <td>3.16</td>\n",
              "      <td>0.58</td>\n",
              "      <td>9.8</td>\n",
              "      <td>6</td>\n",
              "    </tr>\n",
              "    <tr>\n",
              "      <th>4</th>\n",
              "      <td>7.4</td>\n",
              "      <td>0.70</td>\n",
              "      <td>0.00</td>\n",
              "      <td>1.9</td>\n",
              "      <td>0.076</td>\n",
              "      <td>11.0</td>\n",
              "      <td>34.0</td>\n",
              "      <td>0.9978</td>\n",
              "      <td>3.51</td>\n",
              "      <td>0.56</td>\n",
              "      <td>9.4</td>\n",
              "      <td>5</td>\n",
              "    </tr>\n",
              "  </tbody>\n",
              "</table>\n",
              "</div>"
            ],
            "text/plain": [
              "   fixed_acidity  volatile_acidity  citric_acid  ...  sulphates  alcohol  quality\n",
              "0            7.4              0.70         0.00  ...       0.56      9.4        5\n",
              "1            7.8              0.88         0.00  ...       0.68      9.8        5\n",
              "2            7.8              0.76         0.04  ...       0.65      9.8        5\n",
              "3           11.2              0.28         0.56  ...       0.58      9.8        6\n",
              "4            7.4              0.70         0.00  ...       0.56      9.4        5\n",
              "\n",
              "[5 rows x 12 columns]"
            ]
          },
          "metadata": {
            "tags": []
          },
          "execution_count": 38
        }
      ]
    },
    {
      "cell_type": "code",
      "metadata": {
        "id": "6KsC7S3q4Z4m",
        "colab_type": "code",
        "outputId": "272e7ed6-083f-4a23-efe7-d0770a194c0f",
        "colab": {
          "base_uri": "https://localhost:8080/",
          "height": 224
        }
      },
      "source": [
        "NewStandarized=pd.DataFrame(data=StandarizedDataSet,columns=[\"fixed_acidity\",\"volatile_acidity\",\"citric_acid\",\"residual_sugar\"\n",
        ",\"chlorides\",\"free_sulfur_dioxide\",\"total_sulfur_dioxide\",\"density\",\"pH\",\"sulphates\",\"alcohol\",\"quality\"])\n",
        "NewStandarized.head()"
      ],
      "execution_count": 39,
      "outputs": [
        {
          "output_type": "execute_result",
          "data": {
            "text/html": [
              "<div>\n",
              "<style scoped>\n",
              "    .dataframe tbody tr th:only-of-type {\n",
              "        vertical-align: middle;\n",
              "    }\n",
              "\n",
              "    .dataframe tbody tr th {\n",
              "        vertical-align: top;\n",
              "    }\n",
              "\n",
              "    .dataframe thead th {\n",
              "        text-align: right;\n",
              "    }\n",
              "</style>\n",
              "<table border=\"1\" class=\"dataframe\">\n",
              "  <thead>\n",
              "    <tr style=\"text-align: right;\">\n",
              "      <th></th>\n",
              "      <th>fixed_acidity</th>\n",
              "      <th>volatile_acidity</th>\n",
              "      <th>citric_acid</th>\n",
              "      <th>residual_sugar</th>\n",
              "      <th>chlorides</th>\n",
              "      <th>free_sulfur_dioxide</th>\n",
              "      <th>total_sulfur_dioxide</th>\n",
              "      <th>density</th>\n",
              "      <th>pH</th>\n",
              "      <th>sulphates</th>\n",
              "      <th>alcohol</th>\n",
              "      <th>quality</th>\n",
              "    </tr>\n",
              "  </thead>\n",
              "  <tbody>\n",
              "    <tr>\n",
              "      <th>0</th>\n",
              "      <td>0.247788</td>\n",
              "      <td>0.397260</td>\n",
              "      <td>0.00</td>\n",
              "      <td>0.068493</td>\n",
              "      <td>0.106845</td>\n",
              "      <td>0.140845</td>\n",
              "      <td>0.098940</td>\n",
              "      <td>0.567548</td>\n",
              "      <td>0.606299</td>\n",
              "      <td>0.137725</td>\n",
              "      <td>0.153846</td>\n",
              "      <td>0.4</td>\n",
              "    </tr>\n",
              "    <tr>\n",
              "      <th>1</th>\n",
              "      <td>0.283186</td>\n",
              "      <td>0.520548</td>\n",
              "      <td>0.00</td>\n",
              "      <td>0.116438</td>\n",
              "      <td>0.143573</td>\n",
              "      <td>0.338028</td>\n",
              "      <td>0.215548</td>\n",
              "      <td>0.494126</td>\n",
              "      <td>0.362205</td>\n",
              "      <td>0.209581</td>\n",
              "      <td>0.215385</td>\n",
              "      <td>0.4</td>\n",
              "    </tr>\n",
              "    <tr>\n",
              "      <th>2</th>\n",
              "      <td>0.283186</td>\n",
              "      <td>0.438356</td>\n",
              "      <td>0.04</td>\n",
              "      <td>0.095890</td>\n",
              "      <td>0.133556</td>\n",
              "      <td>0.197183</td>\n",
              "      <td>0.169611</td>\n",
              "      <td>0.508811</td>\n",
              "      <td>0.409449</td>\n",
              "      <td>0.191617</td>\n",
              "      <td>0.215385</td>\n",
              "      <td>0.4</td>\n",
              "    </tr>\n",
              "    <tr>\n",
              "      <th>3</th>\n",
              "      <td>0.584071</td>\n",
              "      <td>0.109589</td>\n",
              "      <td>0.56</td>\n",
              "      <td>0.068493</td>\n",
              "      <td>0.105175</td>\n",
              "      <td>0.225352</td>\n",
              "      <td>0.190813</td>\n",
              "      <td>0.582232</td>\n",
              "      <td>0.330709</td>\n",
              "      <td>0.149701</td>\n",
              "      <td>0.215385</td>\n",
              "      <td>0.6</td>\n",
              "    </tr>\n",
              "    <tr>\n",
              "      <th>4</th>\n",
              "      <td>0.247788</td>\n",
              "      <td>0.397260</td>\n",
              "      <td>0.00</td>\n",
              "      <td>0.068493</td>\n",
              "      <td>0.106845</td>\n",
              "      <td>0.140845</td>\n",
              "      <td>0.098940</td>\n",
              "      <td>0.567548</td>\n",
              "      <td>0.606299</td>\n",
              "      <td>0.137725</td>\n",
              "      <td>0.153846</td>\n",
              "      <td>0.4</td>\n",
              "    </tr>\n",
              "  </tbody>\n",
              "</table>\n",
              "</div>"
            ],
            "text/plain": [
              "   fixed_acidity  volatile_acidity  citric_acid  ...  sulphates   alcohol  quality\n",
              "0       0.247788          0.397260         0.00  ...   0.137725  0.153846      0.4\n",
              "1       0.283186          0.520548         0.00  ...   0.209581  0.215385      0.4\n",
              "2       0.283186          0.438356         0.04  ...   0.191617  0.215385      0.4\n",
              "3       0.584071          0.109589         0.56  ...   0.149701  0.215385      0.6\n",
              "4       0.247788          0.397260         0.00  ...   0.137725  0.153846      0.4\n",
              "\n",
              "[5 rows x 12 columns]"
            ]
          },
          "metadata": {
            "tags": []
          },
          "execution_count": 39
        }
      ]
    },
    {
      "cell_type": "code",
      "metadata": {
        "id": "qNnxJFzq6RoX",
        "colab_type": "code",
        "outputId": "faa0549c-0a7a-4964-a285-062091fa6bbf",
        "colab": {
          "base_uri": "https://localhost:8080/",
          "height": 224
        }
      },
      "source": [
        "NewStandarized.head()"
      ],
      "execution_count": 40,
      "outputs": [
        {
          "output_type": "execute_result",
          "data": {
            "text/html": [
              "<div>\n",
              "<style scoped>\n",
              "    .dataframe tbody tr th:only-of-type {\n",
              "        vertical-align: middle;\n",
              "    }\n",
              "\n",
              "    .dataframe tbody tr th {\n",
              "        vertical-align: top;\n",
              "    }\n",
              "\n",
              "    .dataframe thead th {\n",
              "        text-align: right;\n",
              "    }\n",
              "</style>\n",
              "<table border=\"1\" class=\"dataframe\">\n",
              "  <thead>\n",
              "    <tr style=\"text-align: right;\">\n",
              "      <th></th>\n",
              "      <th>fixed_acidity</th>\n",
              "      <th>volatile_acidity</th>\n",
              "      <th>citric_acid</th>\n",
              "      <th>residual_sugar</th>\n",
              "      <th>chlorides</th>\n",
              "      <th>free_sulfur_dioxide</th>\n",
              "      <th>total_sulfur_dioxide</th>\n",
              "      <th>density</th>\n",
              "      <th>pH</th>\n",
              "      <th>sulphates</th>\n",
              "      <th>alcohol</th>\n",
              "      <th>quality</th>\n",
              "    </tr>\n",
              "  </thead>\n",
              "  <tbody>\n",
              "    <tr>\n",
              "      <th>0</th>\n",
              "      <td>0.247788</td>\n",
              "      <td>0.397260</td>\n",
              "      <td>0.00</td>\n",
              "      <td>0.068493</td>\n",
              "      <td>0.106845</td>\n",
              "      <td>0.140845</td>\n",
              "      <td>0.098940</td>\n",
              "      <td>0.567548</td>\n",
              "      <td>0.606299</td>\n",
              "      <td>0.137725</td>\n",
              "      <td>0.153846</td>\n",
              "      <td>0.4</td>\n",
              "    </tr>\n",
              "    <tr>\n",
              "      <th>1</th>\n",
              "      <td>0.283186</td>\n",
              "      <td>0.520548</td>\n",
              "      <td>0.00</td>\n",
              "      <td>0.116438</td>\n",
              "      <td>0.143573</td>\n",
              "      <td>0.338028</td>\n",
              "      <td>0.215548</td>\n",
              "      <td>0.494126</td>\n",
              "      <td>0.362205</td>\n",
              "      <td>0.209581</td>\n",
              "      <td>0.215385</td>\n",
              "      <td>0.4</td>\n",
              "    </tr>\n",
              "    <tr>\n",
              "      <th>2</th>\n",
              "      <td>0.283186</td>\n",
              "      <td>0.438356</td>\n",
              "      <td>0.04</td>\n",
              "      <td>0.095890</td>\n",
              "      <td>0.133556</td>\n",
              "      <td>0.197183</td>\n",
              "      <td>0.169611</td>\n",
              "      <td>0.508811</td>\n",
              "      <td>0.409449</td>\n",
              "      <td>0.191617</td>\n",
              "      <td>0.215385</td>\n",
              "      <td>0.4</td>\n",
              "    </tr>\n",
              "    <tr>\n",
              "      <th>3</th>\n",
              "      <td>0.584071</td>\n",
              "      <td>0.109589</td>\n",
              "      <td>0.56</td>\n",
              "      <td>0.068493</td>\n",
              "      <td>0.105175</td>\n",
              "      <td>0.225352</td>\n",
              "      <td>0.190813</td>\n",
              "      <td>0.582232</td>\n",
              "      <td>0.330709</td>\n",
              "      <td>0.149701</td>\n",
              "      <td>0.215385</td>\n",
              "      <td>0.6</td>\n",
              "    </tr>\n",
              "    <tr>\n",
              "      <th>4</th>\n",
              "      <td>0.247788</td>\n",
              "      <td>0.397260</td>\n",
              "      <td>0.00</td>\n",
              "      <td>0.068493</td>\n",
              "      <td>0.106845</td>\n",
              "      <td>0.140845</td>\n",
              "      <td>0.098940</td>\n",
              "      <td>0.567548</td>\n",
              "      <td>0.606299</td>\n",
              "      <td>0.137725</td>\n",
              "      <td>0.153846</td>\n",
              "      <td>0.4</td>\n",
              "    </tr>\n",
              "  </tbody>\n",
              "</table>\n",
              "</div>"
            ],
            "text/plain": [
              "   fixed_acidity  volatile_acidity  citric_acid  ...  sulphates   alcohol  quality\n",
              "0       0.247788          0.397260         0.00  ...   0.137725  0.153846      0.4\n",
              "1       0.283186          0.520548         0.00  ...   0.209581  0.215385      0.4\n",
              "2       0.283186          0.438356         0.04  ...   0.191617  0.215385      0.4\n",
              "3       0.584071          0.109589         0.56  ...   0.149701  0.215385      0.6\n",
              "4       0.247788          0.397260         0.00  ...   0.137725  0.153846      0.4\n",
              "\n",
              "[5 rows x 12 columns]"
            ]
          },
          "metadata": {
            "tags": []
          },
          "execution_count": 40
        }
      ]
    },
    {
      "cell_type": "code",
      "metadata": {
        "id": "5KgWbnnF0D6N",
        "colab_type": "code",
        "outputId": "02e93019-d297-4797-923e-a6be7ae0a381",
        "colab": {
          "base_uri": "https://localhost:8080/",
          "height": 204
        }
      },
      "source": [
        "from sklearn.model_selection import train_test_split,GridSearchCV\n",
        "from sklearn.linear_model import Ridge,LinearRegression,Lasso\n",
        "from sklearn.metrics import mean_squared_error\n",
        "\n",
        "features=NewStandarized.drop(\"quality\",axis=1)\n",
        "target=NewStandarized[\"quality\"]\n",
        "\n",
        "x_train,x_test,y_train,y_test=train_test_split(features,target,random_state=52,test_size=0.2)\n",
        "alpha=[1e-15 , 1e-14 , 1e-12 , 1e-13 , 1e-11 , 1e-10 , 1e-9 , 1e-8 , 1e-7 , 1e-6 , 1e-5 , 1e-4 , 1e-3 , 1e-2 ,1e-1]\n",
        "alpha.extend(list(np.arange(1,10,0.1)))\n",
        "hyper_parameter={\"alpha\":alpha}\n",
        "\n",
        "ridge=Ridge(random_state=52)\n",
        "Linear=LinearRegression()\n",
        "lasso=Lasso(random_state=52)\n",
        "\n",
        "ridgeregressor=GridSearchCV(ridge,param_grid=hyper_parameter\n",
        "                            ,cv=10,\n",
        "                            verbose=True)\n",
        "LassoRegressor=(GridSearchCV(lasso,param_grid=hyper_parameter\n",
        "                            ,cv=10\n",
        "                            ,verbose=True))\n",
        "\n",
        "Linear.fit(x_train,y_train)\n",
        "\n",
        "ridgeregressor.fit(x_train,y_train)\n",
        "\n",
        "LassoRegressor.fit(x_train,y_train)\n",
        "\n",
        "y_preds=Linear.predict(x_test)\n",
        "y_predridge=ridgeregressor.predict(x_test)\n",
        "y_predlasso=LassoRegressor.predict(x_test)\n",
        "\n",
        "\n",
        "\n",
        "\n",
        "# for i in range(len(df.columns) - 1):\n",
        "#   print(\"Label \",df.columns[i] +\"\\n\\t\\t\" + str(model.coef_[i]) )\n",
        "\n",
        "print (\"\\n Ridge best Alpha --> \", ridgeregressor.best_params_, \" With Score --> \" ,ridgeregressor.best_score_, \" And MSE --> \",mean_squared_error(y_test,y_pred=y_predridge ) )\n",
        "print (\"\\n Lasso best Alpha --> \", LassoRegressor.best_params_, \" With Score --> \" ,LassoRegressor.best_score_, \" And MSE --> \",mean_squared_error(y_test,y_pred=y_predlasso ) )\n",
        "print(\"Regression Mse Score --> \", mean_squared_error(y_true=y_test,y_pred=y_preds) , \" And Score ==>  \",Linear.score(x_test,y_test) )"
      ],
      "execution_count": 41,
      "outputs": [
        {
          "output_type": "stream",
          "text": [
            "Fitting 10 folds for each of 105 candidates, totalling 1050 fits\n"
          ],
          "name": "stdout"
        },
        {
          "output_type": "stream",
          "text": [
            "[Parallel(n_jobs=1)]: Using backend SequentialBackend with 1 concurrent workers.\n",
            "[Parallel(n_jobs=1)]: Done 1050 out of 1050 | elapsed:    6.4s finished\n",
            "[Parallel(n_jobs=1)]: Using backend SequentialBackend with 1 concurrent workers.\n"
          ],
          "name": "stderr"
        },
        {
          "output_type": "stream",
          "text": [
            "Fitting 10 folds for each of 105 candidates, totalling 1050 fits\n",
            "\n",
            " Ridge best Alpha -->  {'alpha': 1.0}  With Score -->  0.339133506304491  And MSE -->  0.01676654147585376\n",
            "\n",
            " Lasso best Alpha -->  {'alpha': 0.0001}  With Score -->  0.3388551677446353  And MSE -->  0.016724799630889055\n",
            "Regression Mse Score -->  0.016719629448274383  And Score ==>   0.35128445911515016\n"
          ],
          "name": "stdout"
        },
        {
          "output_type": "stream",
          "text": [
            "[Parallel(n_jobs=1)]: Done 1050 out of 1050 | elapsed:    7.2s finished\n"
          ],
          "name": "stderr"
        }
      ]
    },
    {
      "cell_type": "code",
      "metadata": {
        "id": "fApNfFsu8qZ_",
        "colab_type": "code",
        "outputId": "4b8443f1-e6f7-4e8e-b893-e85792e7c0c6",
        "colab": {
          "base_uri": "https://localhost:8080/",
          "height": 842
        }
      },
      "source": [
        "from scipy.stats import kurtosis,skew\n",
        "f,ax=plt.subplots(figsize=(20,14),nrows=3)\n",
        "ax[0].set(title=\"Skewness -- > {}   Kurtosis -- > {} \".format(round(skew(y_predridge),5),round(kurtosis(y_predridge),5)))\n",
        "ax[1].set(title=\"Skewness -- > {}   Kurtosis -- > {} \".format(round(skew(y_predlasso),5),round(kurtosis(y_predlasso),5)))\n",
        "ax[2].set(title=\"Skewness -- > {}   Kurtosis -- > {} \".format(round(skew(y_preds),5),round(kurtosis(y_preds),5)))\n",
        "sns.distplot(a=y_predridge,norm_hist=True,ax=ax[0])\n",
        "sns.distplot(a=y_predlasso,norm_hist=True,ax=ax[1])\n",
        "sns.distplot(a=y_preds,norm_hist=True,ax=ax[2])\n",
        "\n",
        "\n"
      ],
      "execution_count": 42,
      "outputs": [
        {
          "output_type": "execute_result",
          "data": {
            "text/plain": [
              "<matplotlib.axes._subplots.AxesSubplot at 0x7fa925386cf8>"
            ]
          },
          "metadata": {
            "tags": []
          },
          "execution_count": 42
        },
        {
          "output_type": "display_data",
          "data": {
            "image/png": "[encoded data removed]",
            "text/plain": [
              "<Figure size 1440x1008 with 3 Axes>"
            ]
          },
          "metadata": {
            "tags": [],
            "needs_background": "light"
          }
        }
      ]
    },
    {
      "cell_type": "code",
      "metadata": {
        "id": "YGsJ4OO35A9m",
        "colab_type": "code",
        "colab": {}
      },
      "source": [
        "# f,axes=plt.subplots(nrows=1,ncols=len(x_test.columns),sharey=True,constrained_layout=True,figsize=(30,15))\n",
        "# for i,name  in enumerate(x_test.columns):\n",
        "#   model.fit(x_train[name].values[:,np.newaxis],y_train) ## Change the Current Dimension with Npnewaxis\n",
        "#   axes[i].set_title(\"Best fit line\")\n",
        "#   axes[i].set_xlabel(str(name))\n",
        "#   axes[i].set_ylabel('SalePrice')\n",
        "#   axes[i].scatter(x_train[name].values[:,np.newaxis], y_train,color='g')\n",
        "#   axes[i].plot(x_train[name].values[:,np.newaxis],Linear.predict(x_train[name].values[:,np.newaxis]),color='k')\n",
        "\n"
      ],
      "execution_count": 0,
      "outputs": []
    },
    {
      "cell_type": "code",
      "metadata": {
        "id": "TCANs2th7N0u",
        "colab_type": "code",
        "outputId": "eb911fa4-d06a-480e-9a85-de015ae69eae",
        "colab": {
          "base_uri": "https://localhost:8080/",
          "height": 697
        }
      },
      "source": [
        "ridge=Ridge(random_state=52, alpha=9.900000000000007)\n",
        "Linear=LinearRegression()\n",
        "lasso=Lasso(random_state=52,alpha = 0.01)\n",
        "ridge.fit(x_train,y_train)\n",
        "lasso.fit(x_train,y_train)\n",
        "Linear.fit(x_train,y_train)\n",
        "\n",
        "for name,coef in enumerate (ridge.coef_):\n",
        "  print(\"Label : \",df.columns[name], \"Coef \",coef)\n",
        "print(\"sampis Emang \\n\\n\\n\")\n",
        "for name,coef in enumerate (lasso.coef_):\n",
        "  print(\"Label : \",df.columns[name], \"Coef \",coef)\n",
        "print(\"No No \\n\\n\")\n",
        "for name,coef in enumerate (Linear.coef_):\n",
        "  print(\"Label : \",df.columns[name], \"Coef \",coef)  \n",
        "lol=df.drop([\"quality\"],axis=1)\n",
        "\n",
        " "
      ],
      "execution_count": 44,
      "outputs": [
        {
          "output_type": "stream",
          "text": [
            "Label :  fixed_acidity Coef  0.0696482592682067\n",
            "Label :  volatile_acidity Coef  -0.19396960147530173\n",
            "Label :  citric_acid Coef  0.05142078292062943\n",
            "Label :  residual_sugar Coef  0.013231872242895716\n",
            "Label :  chlorides Coef  -0.09394584271472112\n",
            "Label :  free_sulfur_dioxide Coef  0.023973519806524853\n",
            "Label :  total_sulfur_dioxide Coef  -0.10666051678350583\n",
            "Label :  density Coef  -0.08797765643489487\n",
            "Label :  pH Coef  -0.03302790416833912\n",
            "Label :  sulphates Coef  0.15193261115658177\n",
            "Label :  alcohol Coef  0.2938955807934741\n",
            "sampis Emang \n",
            "\n",
            "\n",
            "\n",
            "Label :  fixed_acidity Coef  0.0\n",
            "Label :  volatile_acidity Coef  -0.0\n",
            "Label :  citric_acid Coef  0.0\n",
            "Label :  residual_sugar Coef  -0.0\n",
            "Label :  chlorides Coef  -0.0\n",
            "Label :  free_sulfur_dioxide Coef  -0.0\n",
            "Label :  total_sulfur_dioxide Coef  -0.0\n",
            "Label :  density Coef  -0.0\n",
            "Label :  pH Coef  -0.0\n",
            "Label :  sulphates Coef  0.0\n",
            "Label :  alcohol Coef  0.10538141538232004\n",
            "No No \n",
            "\n",
            "\n",
            "Label :  fixed_acidity Coef  0.07603380078366212\n",
            "Label :  volatile_acidity Coef  -0.27161963972959835\n",
            "Label :  citric_acid Coef  -0.011542961700496096\n",
            "Label :  residual_sugar Coef  0.036661714914548164\n",
            "Label :  chlorides Coef  -0.26115537000679245\n",
            "Label :  free_sulfur_dioxide Coef  0.07571499330067046\n",
            "Label :  total_sulfur_dioxide Coef  -0.1933851916569003\n",
            "Label :  density Coef  -0.07184678158497257\n",
            "Label :  pH Coef  -0.10376151038445895\n",
            "Label :  sulphates Coef  0.287720197826699\n",
            "Label :  alcohol Coef  0.35769619362046584\n"
          ],
          "name": "stdout"
        }
      ]
    },
    {
      "cell_type": "code",
      "metadata": {
        "id": "MbcEEWeE6U11",
        "colab_type": "code",
        "outputId": "a25c50e3-9566-49cf-d289-992c6f9754e5",
        "colab": {
          "base_uri": "https://localhost:8080/",
          "height": 68
        }
      },
      "source": [
        "ridge.coef_"
      ],
      "execution_count": 45,
      "outputs": [
        {
          "output_type": "execute_result",
          "data": {
            "text/plain": [
              "array([ 0.06964826, -0.1939696 ,  0.05142078,  0.01323187, -0.09394584,\n",
              "        0.02397352, -0.10666052, -0.08797766, -0.0330279 ,  0.15193261,\n",
              "        0.29389558])"
            ]
          },
          "metadata": {
            "tags": []
          },
          "execution_count": 45
        }
      ]
    }
  ]
}