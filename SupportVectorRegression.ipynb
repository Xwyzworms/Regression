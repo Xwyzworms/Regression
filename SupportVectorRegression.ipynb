{
  "nbformat": 4,
  "nbformat_minor": 0,
  "metadata": {
    "colab": {
      "name": "SupportVectorRegression.ipynb",
      "provenance": [],
      "collapsed_sections": []
    },
    "kernelspec": {
      "name": "python3",
      "display_name": "Python 3"
    }
  },
  "cells": [
    {
      "cell_type": "code",
      "metadata": {
        "id": "OgOzou5vxyO7",
        "colab_type": "code",
        "colab": {
          "base_uri": "https://localhost:8080/",
          "height": 34
        },
        "outputId": "a4e2ff08-2a4c-4e18-a620-8554c8cfd723"
      },
      "source": [
        "from google.colab import drive\n",
        "drive.mount(\"/content/drive\")"
      ],
      "execution_count": 1,
      "outputs": [
        {
          "output_type": "stream",
          "text": [
            "Drive already mounted at /content/drive; to attempt to forcibly remount, call drive.mount(\"/content/drive\", force_remount=True).\n"
          ],
          "name": "stdout"
        }
      ]
    },
    {
      "cell_type": "code",
      "metadata": {
        "id": "PYDvfgtT1_Wo",
        "colab_type": "code",
        "colab": {
          "base_uri": "https://localhost:8080/",
          "height": 71
        },
        "outputId": "dce57996-fa13-4204-bf5f-0cc7b59aaf64"
      },
      "source": [
        "import numpy as np\n",
        "import matplotlib.pyplot as plt\n",
        "import seaborn as sns\n",
        "import pandas as pd"
      ],
      "execution_count": 2,
      "outputs": [
        {
          "output_type": "stream",
          "text": [
            "/usr/local/lib/python3.6/dist-packages/statsmodels/tools/_testing.py:19: FutureWarning: pandas.util.testing is deprecated. Use the functions in the public API at pandas.testing instead.\n",
            "  import pandas.util.testing as tm\n"
          ],
          "name": "stderr"
        }
      ]
    },
    {
      "cell_type": "code",
      "metadata": {
        "id": "NHFWiz_G1_ly",
        "colab_type": "code",
        "colab": {
          "base_uri": "https://localhost:8080/",
          "height": 204
        },
        "outputId": "df7bb2de-525a-4563-abf3-2ad6a6182103"
      },
      "source": [
        "dataset=pd.read_csv(\"/content/drive/My Drive/DataSet/winequality-red.csv\",sep=\";\")\n",
        "dataset.head()"
      ],
      "execution_count": 3,
      "outputs": [
        {
          "output_type": "execute_result",
          "data": {
            "text/html": [
              "<div>\n",
              "<style scoped>\n",
              "    .dataframe tbody tr th:only-of-type {\n",
              "        vertical-align: middle;\n",
              "    }\n",
              "\n",
              "    .dataframe tbody tr th {\n",
              "        vertical-align: top;\n",
              "    }\n",
              "\n",
              "    .dataframe thead th {\n",
              "        text-align: right;\n",
              "    }\n",
              "</style>\n",
              "<table border=\"1\" class=\"dataframe\">\n",
              "  <thead>\n",
              "    <tr style=\"text-align: right;\">\n",
              "      <th></th>\n",
              "      <th>fixed acidity</th>\n",
              "      <th>volatile acidity</th>\n",
              "      <th>citric acid</th>\n",
              "      <th>residual sugar</th>\n",
              "      <th>chlorides</th>\n",
              "      <th>free sulfur dioxide</th>\n",
              "      <th>total sulfur dioxide</th>\n",
              "      <th>density</th>\n",
              "      <th>pH</th>\n",
              "      <th>sulphates</th>\n",
              "      <th>alcohol</th>\n",
              "      <th>quality</th>\n",
              "    </tr>\n",
              "  </thead>\n",
              "  <tbody>\n",
              "    <tr>\n",
              "      <th>0</th>\n",
              "      <td>7.4</td>\n",
              "      <td>0.70</td>\n",
              "      <td>0.00</td>\n",
              "      <td>1.9</td>\n",
              "      <td>0.076</td>\n",
              "      <td>11.0</td>\n",
              "      <td>34.0</td>\n",
              "      <td>0.9978</td>\n",
              "      <td>3.51</td>\n",
              "      <td>0.56</td>\n",
              "      <td>9.4</td>\n",
              "      <td>5</td>\n",
              "    </tr>\n",
              "    <tr>\n",
              "      <th>1</th>\n",
              "      <td>7.8</td>\n",
              "      <td>0.88</td>\n",
              "      <td>0.00</td>\n",
              "      <td>2.6</td>\n",
              "      <td>0.098</td>\n",
              "      <td>25.0</td>\n",
              "      <td>67.0</td>\n",
              "      <td>0.9968</td>\n",
              "      <td>3.20</td>\n",
              "      <td>0.68</td>\n",
              "      <td>9.8</td>\n",
              "      <td>5</td>\n",
              "    </tr>\n",
              "    <tr>\n",
              "      <th>2</th>\n",
              "      <td>7.8</td>\n",
              "      <td>0.76</td>\n",
              "      <td>0.04</td>\n",
              "      <td>2.3</td>\n",
              "      <td>0.092</td>\n",
              "      <td>15.0</td>\n",
              "      <td>54.0</td>\n",
              "      <td>0.9970</td>\n",
              "      <td>3.26</td>\n",
              "      <td>0.65</td>\n",
              "      <td>9.8</td>\n",
              "      <td>5</td>\n",
              "    </tr>\n",
              "    <tr>\n",
              "      <th>3</th>\n",
              "      <td>11.2</td>\n",
              "      <td>0.28</td>\n",
              "      <td>0.56</td>\n",
              "      <td>1.9</td>\n",
              "      <td>0.075</td>\n",
              "      <td>17.0</td>\n",
              "      <td>60.0</td>\n",
              "      <td>0.9980</td>\n",
              "      <td>3.16</td>\n",
              "      <td>0.58</td>\n",
              "      <td>9.8</td>\n",
              "      <td>6</td>\n",
              "    </tr>\n",
              "    <tr>\n",
              "      <th>4</th>\n",
              "      <td>7.4</td>\n",
              "      <td>0.70</td>\n",
              "      <td>0.00</td>\n",
              "      <td>1.9</td>\n",
              "      <td>0.076</td>\n",
              "      <td>11.0</td>\n",
              "      <td>34.0</td>\n",
              "      <td>0.9978</td>\n",
              "      <td>3.51</td>\n",
              "      <td>0.56</td>\n",
              "      <td>9.4</td>\n",
              "      <td>5</td>\n",
              "    </tr>\n",
              "  </tbody>\n",
              "</table>\n",
              "</div>"
            ],
            "text/plain": [
              "   fixed acidity  volatile acidity  citric acid  ...  sulphates  alcohol  quality\n",
              "0            7.4              0.70         0.00  ...       0.56      9.4        5\n",
              "1            7.8              0.88         0.00  ...       0.68      9.8        5\n",
              "2            7.8              0.76         0.04  ...       0.65      9.8        5\n",
              "3           11.2              0.28         0.56  ...       0.58      9.8        6\n",
              "4            7.4              0.70         0.00  ...       0.56      9.4        5\n",
              "\n",
              "[5 rows x 12 columns]"
            ]
          },
          "metadata": {
            "tags": []
          },
          "execution_count": 3
        }
      ]
    },
    {
      "cell_type": "code",
      "metadata": {
        "id": "JD0P35oLMgo7",
        "colab_type": "code",
        "colab": {
          "base_uri": "https://localhost:8080/",
          "height": 204
        },
        "outputId": "5f971275-b2b7-4555-bcbf-945ef5d74c3d"
      },
      "source": [
        "from sklearn.preprocessing import StandardScaler\n",
        "sc=StandardScaler()\n",
        "target=dataset[\"quality\"]\n",
        "dataset=pd.DataFrame(sc.fit_transform(dataset.drop(\"quality\",axis=1)) , columns=dataset.columns[:-1] )\n",
        "dataset.head()"
      ],
      "execution_count": 4,
      "outputs": [
        {
          "output_type": "execute_result",
          "data": {
            "text/html": [
              "<div>\n",
              "<style scoped>\n",
              "    .dataframe tbody tr th:only-of-type {\n",
              "        vertical-align: middle;\n",
              "    }\n",
              "\n",
              "    .dataframe tbody tr th {\n",
              "        vertical-align: top;\n",
              "    }\n",
              "\n",
              "    .dataframe thead th {\n",
              "        text-align: right;\n",
              "    }\n",
              "</style>\n",
              "<table border=\"1\" class=\"dataframe\">\n",
              "  <thead>\n",
              "    <tr style=\"text-align: right;\">\n",
              "      <th></th>\n",
              "      <th>fixed acidity</th>\n",
              "      <th>volatile acidity</th>\n",
              "      <th>citric acid</th>\n",
              "      <th>residual sugar</th>\n",
              "      <th>chlorides</th>\n",
              "      <th>free sulfur dioxide</th>\n",
              "      <th>total sulfur dioxide</th>\n",
              "      <th>density</th>\n",
              "      <th>pH</th>\n",
              "      <th>sulphates</th>\n",
              "      <th>alcohol</th>\n",
              "    </tr>\n",
              "  </thead>\n",
              "  <tbody>\n",
              "    <tr>\n",
              "      <th>0</th>\n",
              "      <td>-0.528360</td>\n",
              "      <td>0.961877</td>\n",
              "      <td>-1.391472</td>\n",
              "      <td>-0.453218</td>\n",
              "      <td>-0.243707</td>\n",
              "      <td>-0.466193</td>\n",
              "      <td>-0.379133</td>\n",
              "      <td>0.558274</td>\n",
              "      <td>1.288643</td>\n",
              "      <td>-0.579207</td>\n",
              "      <td>-0.960246</td>\n",
              "    </tr>\n",
              "    <tr>\n",
              "      <th>1</th>\n",
              "      <td>-0.298547</td>\n",
              "      <td>1.967442</td>\n",
              "      <td>-1.391472</td>\n",
              "      <td>0.043416</td>\n",
              "      <td>0.223875</td>\n",
              "      <td>0.872638</td>\n",
              "      <td>0.624363</td>\n",
              "      <td>0.028261</td>\n",
              "      <td>-0.719933</td>\n",
              "      <td>0.128950</td>\n",
              "      <td>-0.584777</td>\n",
              "    </tr>\n",
              "    <tr>\n",
              "      <th>2</th>\n",
              "      <td>-0.298547</td>\n",
              "      <td>1.297065</td>\n",
              "      <td>-1.186070</td>\n",
              "      <td>-0.169427</td>\n",
              "      <td>0.096353</td>\n",
              "      <td>-0.083669</td>\n",
              "      <td>0.229047</td>\n",
              "      <td>0.134264</td>\n",
              "      <td>-0.331177</td>\n",
              "      <td>-0.048089</td>\n",
              "      <td>-0.584777</td>\n",
              "    </tr>\n",
              "    <tr>\n",
              "      <th>3</th>\n",
              "      <td>1.654856</td>\n",
              "      <td>-1.384443</td>\n",
              "      <td>1.484154</td>\n",
              "      <td>-0.453218</td>\n",
              "      <td>-0.264960</td>\n",
              "      <td>0.107592</td>\n",
              "      <td>0.411500</td>\n",
              "      <td>0.664277</td>\n",
              "      <td>-0.979104</td>\n",
              "      <td>-0.461180</td>\n",
              "      <td>-0.584777</td>\n",
              "    </tr>\n",
              "    <tr>\n",
              "      <th>4</th>\n",
              "      <td>-0.528360</td>\n",
              "      <td>0.961877</td>\n",
              "      <td>-1.391472</td>\n",
              "      <td>-0.453218</td>\n",
              "      <td>-0.243707</td>\n",
              "      <td>-0.466193</td>\n",
              "      <td>-0.379133</td>\n",
              "      <td>0.558274</td>\n",
              "      <td>1.288643</td>\n",
              "      <td>-0.579207</td>\n",
              "      <td>-0.960246</td>\n",
              "    </tr>\n",
              "  </tbody>\n",
              "</table>\n",
              "</div>"
            ],
            "text/plain": [
              "   fixed acidity  volatile acidity  citric acid  ...        pH  sulphates   alcohol\n",
              "0      -0.528360          0.961877    -1.391472  ...  1.288643  -0.579207 -0.960246\n",
              "1      -0.298547          1.967442    -1.391472  ... -0.719933   0.128950 -0.584777\n",
              "2      -0.298547          1.297065    -1.186070  ... -0.331177  -0.048089 -0.584777\n",
              "3       1.654856         -1.384443     1.484154  ... -0.979104  -0.461180 -0.584777\n",
              "4      -0.528360          0.961877    -1.391472  ...  1.288643  -0.579207 -0.960246\n",
              "\n",
              "[5 rows x 11 columns]"
            ]
          },
          "metadata": {
            "tags": []
          },
          "execution_count": 4
        }
      ]
    },
    {
      "cell_type": "code",
      "metadata": {
        "id": "Z5sZxLFuQ6EX",
        "colab_type": "code",
        "colab": {}
      },
      "source": [
        ""
      ],
      "execution_count": 0,
      "outputs": []
    },
    {
      "cell_type": "code",
      "metadata": {
        "id": "YIenpO1TNRbj",
        "colab_type": "code",
        "colab": {
          "base_uri": "https://localhost:8080/",
          "height": 68
        },
        "outputId": "c8461acf-1c6b-494e-dd88-ced0b1b4abb5"
      },
      "source": [
        "from sklearn.model_selection import train_test_split\n",
        "from sklearn.svm import SVR\n",
        "from sklearn.metrics import mean_squared_error,accuracy_score\n",
        "features=dataset\n",
        "x_train,x_test,y_train,y_test=train_test_split(features,target,test_size=0.20,random_state=42)\n",
        "model=SVR(kernel='rbf',)\n",
        "model.fit(x_train,y_train)\n",
        "y_pred=model.predict(x_test)\n",
        "print(y_test.shape , y_pred.shape)\n",
        "print(\"accuracy --> \" , model.score(x_test,y_test) )\n",
        "print(\"MSE ---> \",mean_squared_error(y_test,y_pred) )\n"
      ],
      "execution_count": 5,
      "outputs": [
        {
          "output_type": "stream",
          "text": [
            "(320,) (320,)\n",
            "accuracy -->  0.4619680927656491\n",
            "MSE --->  0.3516070039083548\n"
          ],
          "name": "stdout"
        }
      ]
    },
    {
      "cell_type": "code",
      "metadata": {
        "id": "lVdUqulfW4VA",
        "colab_type": "code",
        "colab": {
          "base_uri": "https://localhost:8080/",
          "height": 255
        },
        "outputId": "8fd160c2-0ed7-4dee-e9ef-99d050142698"
      },
      "source": [
        "## Tuning HyperParams -->\n",
        "from sklearn.model_selection import KFold,GridSearchCV\n",
        "kfold=KFold(n_splits=10,shuffle=True,random_state=42)\n",
        "hyper_params={\"kernel\":[\"rbf\"],\n",
        "              \"C\":[1.0,10,100,1000],\n",
        "              \"gamma\":[\"auto\",\"scale\"]}\n",
        "model_cv=GridSearchCV(estimator=model,param_grid=hyper_params,verbose=True,cv=kfold)\n",
        "model_cv.fit(x_train,y_train)              \n"
      ],
      "execution_count": 6,
      "outputs": [
        {
          "output_type": "stream",
          "text": [
            "Fitting 10 folds for each of 8 candidates, totalling 80 fits\n"
          ],
          "name": "stdout"
        },
        {
          "output_type": "stream",
          "text": [
            "[Parallel(n_jobs=1)]: Using backend SequentialBackend with 1 concurrent workers.\n",
            "[Parallel(n_jobs=1)]: Done  80 out of  80 | elapsed:  2.9min finished\n"
          ],
          "name": "stderr"
        },
        {
          "output_type": "execute_result",
          "data": {
            "text/plain": [
              "GridSearchCV(cv=KFold(n_splits=10, random_state=42, shuffle=True),\n",
              "             error_score=nan,\n",
              "             estimator=SVR(C=1.0, cache_size=200, coef0=0.0, degree=3,\n",
              "                           epsilon=0.1, gamma='scale', kernel='rbf',\n",
              "                           max_iter=-1, shrinking=True, tol=0.001,\n",
              "                           verbose=False),\n",
              "             iid='deprecated', n_jobs=None,\n",
              "             param_grid={'C': [1.0, 10, 100, 1000], 'gamma': ['auto', 'scale'],\n",
              "                         'kernel': ['rbf']},\n",
              "             pre_dispatch='2*n_jobs', refit=True, return_train_score=False,\n",
              "             scoring=None, verbose=True)"
            ]
          },
          "metadata": {
            "tags": []
          },
          "execution_count": 6
        }
      ]
    },
    {
      "cell_type": "code",
      "metadata": {
        "id": "kajjJAMohWTv",
        "colab_type": "code",
        "colab": {
          "base_uri": "https://localhost:8080/",
          "height": 433
        },
        "outputId": "b970f0ed-31b3-4d17-a5af-4bf31c57772c"
      },
      "source": [
        "print(\"The Score --> \",model_cv.best_score_)\n",
        "print(\"Best Params --> \",model_cv.best_params_)\n",
        "cv_data=pd.DataFrame(model_cv.cv_results_)\n",
        "plt.plot(cv_data[\"param_C\"],cv_data[\"mean_test_score\"])\n",
        "plt.plot(cv_data[\"param_gamma\"],cv_data[\"mean_test_score\"])\n",
        "plt.xlabel(\"Param_c\");plt.ylabel(\"Score(mean)\")\n",
        "plt.legend()\n",
        "plt.show()\n",
        "cv_data.columns"
      ],
      "execution_count": 17,
      "outputs": [
        {
          "output_type": "stream",
          "text": [
            "The Score -->  0.3707214343531331\n",
            "Best Params -->  {'C': 1.0, 'gamma': 'scale', 'kernel': 'rbf'}\n"
          ],
          "name": "stdout"
        },
        {
          "output_type": "display_data",
          "data": {
            "image/png": "[encoded data removed]",
            "text/plain": [
              "<Figure size 432x288 with 1 Axes>"
            ]
          },
          "metadata": {
            "tags": [],
            "needs_background": "light"
          }
        },
        {
          "output_type": "execute_result",
          "data": {
            "text/plain": [
              "Index(['mean_fit_time', 'std_fit_time', 'mean_score_time', 'std_score_time',\n",
              "       'param_C', 'param_gamma', 'param_kernel', 'params', 'split0_test_score',\n",
              "       'split1_test_score', 'split2_test_score', 'split3_test_score',\n",
              "       'split4_test_score', 'split5_test_score', 'split6_test_score',\n",
              "       'split7_test_score', 'split8_test_score', 'split9_test_score',\n",
              "       'mean_test_score', 'std_test_score', 'rank_test_score'],\n",
              "      dtype='object')"
            ]
          },
          "metadata": {
            "tags": []
          },
          "execution_count": 17
        }
      ]
    },
    {
      "cell_type": "code",
      "metadata": {
        "id": "kR19wiXwh6l_",
        "colab_type": "code",
        "colab": {}
      },
      "source": [
        "\n"
      ],
      "execution_count": 0,
      "outputs": []
    }
  ]
}